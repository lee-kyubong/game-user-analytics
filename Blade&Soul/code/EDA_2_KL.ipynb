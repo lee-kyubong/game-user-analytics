{
  "nbformat": 4,
  "nbformat_minor": 0,
  "metadata": {
    "colab": {
      "name": "EDA_KL",
      "version": "0.3.2",
      "provenance": [],
      "collapsed_sections": []
    }
  },
  "cells": [
    {
      "metadata": {
        "id": "noie_bmv1u6V",
        "colab_type": "text"
      },
      "cell_type": "markdown",
      "source": [
        "# 1. 길드와 존속 간 관계 파악\t"
      ]
    },
    {
      "metadata": {
        "id": "kowMNSAAjT92",
        "colab_type": "text"
      },
      "cell_type": "markdown",
      "source": [
        "### 1. week 라벨에서도 복수의 길드 이력이 수백명. 이 게임은 길드란게 무엇인가?\n",
        "### 2. 이탈그룹(week, month, 2month) 내에서는 count의 변화 불규칙\n",
        "### 3. 분수에 맞지 않게 길드를 많이 옮겨다닌 이들 업자로 의심 가능"
      ]
    },
    {
      "metadata": {
        "id": "8cbv1a3WYB54",
        "colab_type": "code",
        "colab": {}
      },
      "cell_type": "code",
      "source": [
        "# 구글드라이브와 연동하기 위한 셋팅\n",
        "!pip install -U -q PyDrive\n",
        "\n",
        "from pydrive.auth import GoogleAuth\n",
        "from pydrive.drive import GoogleDrive\n",
        "from google.colab import auth\n",
        "from oauth2client.client import GoogleCredentials \n",
        " \n",
        "# 1. Authenticate and create the PyDrive client.\n",
        "auth.authenticate_user()\n",
        "gauth = GoogleAuth()\n",
        "gauth.credentials = GoogleCredentials.get_application_default()\n",
        "drive = GoogleDrive(gauth)"
      ],
      "execution_count": 0,
      "outputs": []
    },
    {
      "metadata": {
        "id": "P0B-DuY9YI4a",
        "colab_type": "code",
        "colab": {}
      },
      "cell_type": "code",
      "source": [
        "file_id = ''\n",
        "downloaded = drive.CreateFile({'id': file_id})\n",
        "downloaded.GetContentFile('tr_label_w_guild.csv')"
      ],
      "execution_count": 0,
      "outputs": []
    },
    {
      "metadata": {
        "id": "3g7IQi1OYQbw",
        "colab_type": "code",
        "colab": {
          "base_uri": "https://localhost:8080/",
          "height": 204
        },
        "outputId": "e26e79bc-eccb-4ad8-fa0d-53e1a1bfe9b5"
      },
      "cell_type": "code",
      "source": [
        "import pandas as pd\n",
        "tr_label_w_guild = pd.read_csv('tr_label_w_guild.csv')\n",
        "tr_label_w_guild.head()"
      ],
      "execution_count": 0,
      "outputs": [
        {
          "output_type": "execute_result",
          "data": {
            "text/html": [
              "<div>\n",
              "<style scoped>\n",
              "    .dataframe tbody tr th:only-of-type {\n",
              "        vertical-align: middle;\n",
              "    }\n",
              "\n",
              "    .dataframe tbody tr th {\n",
              "        vertical-align: top;\n",
              "    }\n",
              "\n",
              "    .dataframe thead th {\n",
              "        text-align: right;\n",
              "    }\n",
              "</style>\n",
              "<table border=\"1\" class=\"dataframe\">\n",
              "  <thead>\n",
              "    <tr style=\"text-align: right;\">\n",
              "      <th></th>\n",
              "      <th>acc_id</th>\n",
              "      <th>label</th>\n",
              "      <th>guild_factor</th>\n",
              "      <th>count</th>\n",
              "      <th>joined_guild_id</th>\n",
              "    </tr>\n",
              "  </thead>\n",
              "  <tbody>\n",
              "    <tr>\n",
              "      <th>0</th>\n",
              "      <td>b8fbf3f6a70e3f36843bffc70c18ff51a0d755a87616ec...</td>\n",
              "      <td>week</td>\n",
              "      <td>0</td>\n",
              "      <td>0</td>\n",
              "      <td>0</td>\n",
              "    </tr>\n",
              "    <tr>\n",
              "      <th>1</th>\n",
              "      <td>ed500c4957956b3e99dc3985666850b582f812405eefb6...</td>\n",
              "      <td>week</td>\n",
              "      <td>0</td>\n",
              "      <td>0</td>\n",
              "      <td>0</td>\n",
              "    </tr>\n",
              "    <tr>\n",
              "      <th>2</th>\n",
              "      <td>acc6afa23a6bf15e18151e4794c7789225ef9d682f473c...</td>\n",
              "      <td>week</td>\n",
              "      <td>0</td>\n",
              "      <td>0</td>\n",
              "      <td>0</td>\n",
              "    </tr>\n",
              "    <tr>\n",
              "      <th>3</th>\n",
              "      <td>34095a3c9a2937ced3ea3fd75e22ce177dc5879d2a53f7...</td>\n",
              "      <td>week</td>\n",
              "      <td>0</td>\n",
              "      <td>0</td>\n",
              "      <td>0</td>\n",
              "    </tr>\n",
              "    <tr>\n",
              "      <th>4</th>\n",
              "      <td>26f3db6e8817a93c4ceda9a16f0832945e43d950b95882...</td>\n",
              "      <td>week</td>\n",
              "      <td>0</td>\n",
              "      <td>0</td>\n",
              "      <td>0</td>\n",
              "    </tr>\n",
              "  </tbody>\n",
              "</table>\n",
              "</div>"
            ],
            "text/plain": [
              "                                              acc_id label  guild_factor  \\\n",
              "0  b8fbf3f6a70e3f36843bffc70c18ff51a0d755a87616ec...  week             0   \n",
              "1  ed500c4957956b3e99dc3985666850b582f812405eefb6...  week             0   \n",
              "2  acc6afa23a6bf15e18151e4794c7789225ef9d682f473c...  week             0   \n",
              "3  34095a3c9a2937ced3ea3fd75e22ce177dc5879d2a53f7...  week             0   \n",
              "4  26f3db6e8817a93c4ceda9a16f0832945e43d950b95882...  week             0   \n",
              "\n",
              "   count joined_guild_id  \n",
              "0      0               0  \n",
              "1      0               0  \n",
              "2      0               0  \n",
              "3      0               0  \n",
              "4      0               0  "
            ]
          },
          "metadata": {
            "tags": []
          },
          "execution_count": 3
        }
      ]
    },
    {
      "metadata": {
        "id": "oquZPTCinbm-",
        "colab_type": "code",
        "colab": {}
      },
      "cell_type": "code",
      "source": [
        "tr_label_w_guild['guild_factor'] = tr_label_w_guild['guild_factor'].astype('category')\n",
        "tr_label_w_guild['label'] = tr_label_w_guild['label'].astype('category')\n",
        "tr_label_w_guild['joined_guild_id'] = tr_label_w_guild['joined_guild_id'].astype('str')"
      ],
      "execution_count": 0,
      "outputs": []
    },
    {
      "metadata": {
        "id": "5DSBJ_43nl4L",
        "colab_type": "code",
        "colab": {
          "base_uri": "https://localhost:8080/",
          "height": 119
        },
        "outputId": "e967509a-6cf8-4049-d70b-c62610c5849b"
      },
      "cell_type": "code",
      "source": [
        "tr_label_w_guild.dtypes"
      ],
      "execution_count": 0,
      "outputs": [
        {
          "output_type": "execute_result",
          "data": {
            "text/plain": [
              "acc_id               object\n",
              "label              category\n",
              "guild_factor       category\n",
              "count                 int64\n",
              "joined_guild_id      object\n",
              "dtype: object"
            ]
          },
          "metadata": {
            "tags": []
          },
          "execution_count": 5
        }
      ]
    },
    {
      "metadata": {
        "id": "dHaZPqUCo98z",
        "colab_type": "code",
        "colab": {
          "base_uri": "https://localhost:8080/",
          "height": 68
        },
        "outputId": "3eb1bc01-7355-48fa-86b1-30875cc8ba1d"
      },
      "cell_type": "code",
      "source": [
        "tr_label_w_guild['guild_factor'].value_counts()"
      ],
      "execution_count": 0,
      "outputs": [
        {
          "output_type": "execute_result",
          "data": {
            "text/plain": [
              "0    83264\n",
              "1    16736\n",
              "Name: guild_factor, dtype: int64"
            ]
          },
          "metadata": {
            "tags": []
          },
          "execution_count": 6
        }
      ]
    },
    {
      "metadata": {
        "id": "mz91NE5Dpk1w",
        "colab_type": "code",
        "colab": {
          "base_uri": "https://localhost:8080/",
          "height": 102
        },
        "outputId": "f726d5e9-19f8-4111-fa3d-f0357f177f7f"
      },
      "cell_type": "code",
      "source": [
        "tr_label_w_guild['label'].value_counts()"
      ],
      "execution_count": 0,
      "outputs": [
        {
          "output_type": "execute_result",
          "data": {
            "text/plain": [
              "week        25000\n",
              "retained    25000\n",
              "month       25000\n",
              "2month      25000\n",
              "Name: label, dtype: int64"
            ]
          },
          "metadata": {
            "tags": []
          },
          "execution_count": 7
        }
      ]
    },
    {
      "metadata": {
        "id": "k8F31UVxqAX8",
        "colab_type": "code",
        "colab": {
          "base_uri": "https://localhost:8080/",
          "height": 204
        },
        "outputId": "3ee3eecb-b263-4b83-ce0c-a4cfab290b87"
      },
      "cell_type": "code",
      "source": [
        "tr_label_w_guild.head()"
      ],
      "execution_count": 0,
      "outputs": [
        {
          "output_type": "execute_result",
          "data": {
            "text/html": [
              "<div>\n",
              "<style scoped>\n",
              "    .dataframe tbody tr th:only-of-type {\n",
              "        vertical-align: middle;\n",
              "    }\n",
              "\n",
              "    .dataframe tbody tr th {\n",
              "        vertical-align: top;\n",
              "    }\n",
              "\n",
              "    .dataframe thead th {\n",
              "        text-align: right;\n",
              "    }\n",
              "</style>\n",
              "<table border=\"1\" class=\"dataframe\">\n",
              "  <thead>\n",
              "    <tr style=\"text-align: right;\">\n",
              "      <th></th>\n",
              "      <th>acc_id</th>\n",
              "      <th>label</th>\n",
              "      <th>guild_factor</th>\n",
              "      <th>count</th>\n",
              "      <th>joined_guild_id</th>\n",
              "    </tr>\n",
              "  </thead>\n",
              "  <tbody>\n",
              "    <tr>\n",
              "      <th>0</th>\n",
              "      <td>b8fbf3f6a70e3f36843bffc70c18ff51a0d755a87616ec...</td>\n",
              "      <td>week</td>\n",
              "      <td>0</td>\n",
              "      <td>0</td>\n",
              "      <td>0</td>\n",
              "    </tr>\n",
              "    <tr>\n",
              "      <th>1</th>\n",
              "      <td>ed500c4957956b3e99dc3985666850b582f812405eefb6...</td>\n",
              "      <td>week</td>\n",
              "      <td>0</td>\n",
              "      <td>0</td>\n",
              "      <td>0</td>\n",
              "    </tr>\n",
              "    <tr>\n",
              "      <th>2</th>\n",
              "      <td>acc6afa23a6bf15e18151e4794c7789225ef9d682f473c...</td>\n",
              "      <td>week</td>\n",
              "      <td>0</td>\n",
              "      <td>0</td>\n",
              "      <td>0</td>\n",
              "    </tr>\n",
              "    <tr>\n",
              "      <th>3</th>\n",
              "      <td>34095a3c9a2937ced3ea3fd75e22ce177dc5879d2a53f7...</td>\n",
              "      <td>week</td>\n",
              "      <td>0</td>\n",
              "      <td>0</td>\n",
              "      <td>0</td>\n",
              "    </tr>\n",
              "    <tr>\n",
              "      <th>4</th>\n",
              "      <td>26f3db6e8817a93c4ceda9a16f0832945e43d950b95882...</td>\n",
              "      <td>week</td>\n",
              "      <td>0</td>\n",
              "      <td>0</td>\n",
              "      <td>0</td>\n",
              "    </tr>\n",
              "  </tbody>\n",
              "</table>\n",
              "</div>"
            ],
            "text/plain": [
              "                                              acc_id label guild_factor  \\\n",
              "0  b8fbf3f6a70e3f36843bffc70c18ff51a0d755a87616ec...  week            0   \n",
              "1  ed500c4957956b3e99dc3985666850b582f812405eefb6...  week            0   \n",
              "2  acc6afa23a6bf15e18151e4794c7789225ef9d682f473c...  week            0   \n",
              "3  34095a3c9a2937ced3ea3fd75e22ce177dc5879d2a53f7...  week            0   \n",
              "4  26f3db6e8817a93c4ceda9a16f0832945e43d950b95882...  week            0   \n",
              "\n",
              "   count joined_guild_id  \n",
              "0      0               0  \n",
              "1      0               0  \n",
              "2      0               0  \n",
              "3      0               0  \n",
              "4      0               0  "
            ]
          },
          "metadata": {
            "tags": []
          },
          "execution_count": 8
        }
      ]
    },
    {
      "metadata": {
        "id": "LgugSHZ8rEnJ",
        "colab_type": "code",
        "colab": {
          "base_uri": "https://localhost:8080/",
          "height": 364
        },
        "outputId": "cdd415e8-6253-4b42-80d8-ca71401899f2"
      },
      "cell_type": "code",
      "source": [
        "tr_label_w_guild['count'].value_counts().plot()"
      ],
      "execution_count": 0,
      "outputs": [
        {
          "output_type": "execute_result",
          "data": {
            "text/plain": [
              "<matplotlib.axes._subplots.AxesSubplot at 0x7fc8cb36ec10>"
            ]
          },
          "metadata": {
            "tags": []
          },
          "execution_count": 9
        },
        {
          "output_type": "display_data",
          "data": {
            "image/png": "[encoded data removed]",
            "text/plain": [
              "<matplotlib.figure.Figure at 0x7fc8cccc1f50>"
            ]
          },
          "metadata": {
            "tags": []
          }
        }
      ]
    },
    {
      "metadata": {
        "id": "avWvJNUCrJLj",
        "colab_type": "code",
        "colab": {
          "base_uri": "https://localhost:8080/",
          "height": 238
        },
        "outputId": "1b308a1f-cea1-4330-e00b-624c9d925d1a"
      },
      "cell_type": "code",
      "source": [
        "tr_label_w_guild['count'].value_counts()"
      ],
      "execution_count": 0,
      "outputs": [
        {
          "output_type": "execute_result",
          "data": {
            "text/plain": [
              "0     83264\n",
              "1     10211\n",
              "2      4210\n",
              "3      1404\n",
              "4       507\n",
              "5       218\n",
              "6        98\n",
              "7        43\n",
              "8        25\n",
              "9        15\n",
              "11        3\n",
              "10        2\n",
              "Name: count, dtype: int64"
            ]
          },
          "metadata": {
            "tags": []
          },
          "execution_count": 12
        }
      ]
    },
    {
      "metadata": {
        "id": "o6hVtQ0trP9n",
        "colab_type": "text"
      },
      "cell_type": "markdown",
      "source": [
        "### - 전체 데이터 10만명 중 83% 이상이 길드에 든 적이 없음\t\n",
        "- 길드에 한번이라도 든 적 있는 16736 중 11632 이 'retained'"
      ]
    },
    {
      "metadata": {
        "id": "8vQIftXTpKKc",
        "colab_type": "code",
        "colab": {}
      },
      "cell_type": "code",
      "source": [
        "def bar_plot(var):\n",
        "  week = tr_label_w_guild[tr_label_w_guild['label'] == 'week'][var].value_counts()\n",
        "  month = tr_label_w_guild[tr_label_w_guild['label'] == 'month'][var].value_counts()\n",
        "  two_month = tr_label_w_guild[tr_label_w_guild['label'] == '2month'][var].value_counts()\n",
        "  retained = tr_label_w_guild[tr_label_w_guild['label'] == 'retained'][var].value_counts()\n",
        "  df = pd.DataFrame([week, month, two_month, retained])\n",
        "  df.index = ['week', 'month', 'two_month', 'retained']\n",
        "  df.plot(kind = 'bar', stacked = True, figsize = (10, 5))"
      ],
      "execution_count": 0,
      "outputs": []
    },
    {
      "metadata": {
        "id": "Qycmwf_3qtUX",
        "colab_type": "code",
        "colab": {
          "base_uri": "https://localhost:8080/",
          "height": 359
        },
        "outputId": "0dee4862-cbcc-41a4-a339-4cf7e6b02636"
      },
      "cell_type": "code",
      "source": [
        "bar_plot('guild_factor')"
      ],
      "execution_count": 0,
      "outputs": [
        {
          "output_type": "display_data",
          "data": {
            "image/png": "[encoded data removed]",
            "text/plain": [
              "<matplotlib.figure.Figure at 0x7fc8cb3433d0>"
            ]
          },
          "metadata": {
            "tags": []
          }
        }
      ]
    },
    {
      "metadata": {
        "id": "T8ivFp_-qw75",
        "colab_type": "code",
        "colab": {
          "base_uri": "https://localhost:8080/",
          "height": 359
        },
        "outputId": "0dad32b2-1518-4c8a-d8bc-c46f8e5f79fd"
      },
      "cell_type": "code",
      "source": [
        "bar_plot('count')"
      ],
      "execution_count": 0,
      "outputs": [
        {
          "output_type": "display_data",
          "data": {
            "image/png": "[encoded data removed]",
            "text/plain": [
              "<matplotlib.figure.Figure at 0x7fc8cb2da950>"
            ]
          },
          "metadata": {
            "tags": []
          }
        }
      ]
    },
    {
      "metadata": {
        "id": "-miwRJUSsb3D",
        "colab_type": "text"
      },
      "cell_type": "markdown",
      "source": [
        "### - 이탈자 vs 비이탈자 관점으로 바라보면 길드 가입여부가 확연히 차이남. \n",
        "### - 특히 retained 집단에서 47% 가량이 1번 이상의 길드 가입이력을 갖고 있음"
      ]
    },
    {
      "metadata": {
        "id": "QqLr4CxKr7US",
        "colab_type": "code",
        "colab": {
          "base_uri": "https://localhost:8080/",
          "height": 119
        },
        "outputId": "72b5e669-87ea-45e2-9a44-af980a076193"
      },
      "cell_type": "code",
      "source": [
        "tr_label_w_guild.groupby('label')['count'].mean()"
      ],
      "execution_count": 0,
      "outputs": [
        {
          "output_type": "execute_result",
          "data": {
            "text/plain": [
              "label\n",
              "2month      0.10464\n",
              "month       0.08372\n",
              "retained    0.79204\n",
              "week        0.10912\n",
              "Name: count, dtype: float64"
            ]
          },
          "metadata": {
            "tags": []
          },
          "execution_count": 13
        }
      ]
    },
    {
      "metadata": {
        "id": "7FIVQWIQuXvX",
        "colab_type": "code",
        "colab": {
          "base_uri": "https://localhost:8080/",
          "height": 421
        },
        "outputId": "a69c8956-5911-47ed-adfa-cdcd003d8aa7"
      },
      "cell_type": "code",
      "source": [
        "df_1 = pd.DataFrame([tr_label_w_guild[tr_label_w_guild['label'] == 'week']['count'].value_counts(),\n",
        "                     (tr_label_w_guild[tr_label_w_guild['label'] == 'week']['count'].value_counts() / 25000) * 100,\n",
        "                   tr_label_w_guild[tr_label_w_guild['label'] == 'month']['count'].value_counts(),\n",
        "                     (tr_label_w_guild[tr_label_w_guild['label'] == 'month']['count'].value_counts() / 25000) * 100,\n",
        "                   tr_label_w_guild[tr_label_w_guild['label'] == '2month']['count'].value_counts(),\n",
        "                     (tr_label_w_guild[tr_label_w_guild['label'] == '2month']['count'].value_counts() / 25000) * 100,\n",
        "                   tr_label_w_guild[tr_label_w_guild['label'] == 'retained']['count'].value_counts(),\n",
        "                     (tr_label_w_guild[tr_label_w_guild['label'] == 'retained']['count'].value_counts() / 25000) * 100])\n",
        "\n",
        "\n",
        "df_1.index = ['week_n', 'week_%', 'month_n', 'month_%', 'two_month_n', 'two_month_%', 'retained_n', 'retained_%']\n",
        "df_1.transpose()"
      ],
      "execution_count": 0,
      "outputs": [
        {
          "output_type": "execute_result",
          "data": {
            "text/html": [
              "<div>\n",
              "<style scoped>\n",
              "    .dataframe tbody tr th:only-of-type {\n",
              "        vertical-align: middle;\n",
              "    }\n",
              "\n",
              "    .dataframe tbody tr th {\n",
              "        vertical-align: top;\n",
              "    }\n",
              "\n",
              "    .dataframe thead th {\n",
              "        text-align: right;\n",
              "    }\n",
              "</style>\n",
              "<table border=\"1\" class=\"dataframe\">\n",
              "  <thead>\n",
              "    <tr style=\"text-align: right;\">\n",
              "      <th></th>\n",
              "      <th>week_n</th>\n",
              "      <th>week_%</th>\n",
              "      <th>month_n</th>\n",
              "      <th>month_%</th>\n",
              "      <th>two_month_n</th>\n",
              "      <th>two_month_%</th>\n",
              "      <th>retained_n</th>\n",
              "      <th>retained_%</th>\n",
              "    </tr>\n",
              "  </thead>\n",
              "  <tbody>\n",
              "    <tr>\n",
              "      <th>0</th>\n",
              "      <td>23072.0</td>\n",
              "      <td>92.288</td>\n",
              "      <td>23583.0</td>\n",
              "      <td>94.332</td>\n",
              "      <td>23241.0</td>\n",
              "      <td>92.964</td>\n",
              "      <td>13368.0</td>\n",
              "      <td>53.472</td>\n",
              "    </tr>\n",
              "    <tr>\n",
              "      <th>1</th>\n",
              "      <td>1403.0</td>\n",
              "      <td>5.612</td>\n",
              "      <td>974.0</td>\n",
              "      <td>3.896</td>\n",
              "      <td>1205.0</td>\n",
              "      <td>4.820</td>\n",
              "      <td>6629.0</td>\n",
              "      <td>26.516</td>\n",
              "    </tr>\n",
              "    <tr>\n",
              "      <th>2</th>\n",
              "      <td>364.0</td>\n",
              "      <td>1.456</td>\n",
              "      <td>293.0</td>\n",
              "      <td>1.172</td>\n",
              "      <td>372.0</td>\n",
              "      <td>1.488</td>\n",
              "      <td>3181.0</td>\n",
              "      <td>12.724</td>\n",
              "    </tr>\n",
              "    <tr>\n",
              "      <th>3</th>\n",
              "      <td>96.0</td>\n",
              "      <td>0.384</td>\n",
              "      <td>100.0</td>\n",
              "      <td>0.400</td>\n",
              "      <td>111.0</td>\n",
              "      <td>0.444</td>\n",
              "      <td>1097.0</td>\n",
              "      <td>4.388</td>\n",
              "    </tr>\n",
              "    <tr>\n",
              "      <th>4</th>\n",
              "      <td>35.0</td>\n",
              "      <td>0.140</td>\n",
              "      <td>31.0</td>\n",
              "      <td>0.124</td>\n",
              "      <td>37.0</td>\n",
              "      <td>0.148</td>\n",
              "      <td>404.0</td>\n",
              "      <td>1.616</td>\n",
              "    </tr>\n",
              "    <tr>\n",
              "      <th>5</th>\n",
              "      <td>20.0</td>\n",
              "      <td>0.080</td>\n",
              "      <td>11.0</td>\n",
              "      <td>0.044</td>\n",
              "      <td>24.0</td>\n",
              "      <td>0.096</td>\n",
              "      <td>163.0</td>\n",
              "      <td>0.652</td>\n",
              "    </tr>\n",
              "    <tr>\n",
              "      <th>6</th>\n",
              "      <td>6.0</td>\n",
              "      <td>0.024</td>\n",
              "      <td>4.0</td>\n",
              "      <td>0.016</td>\n",
              "      <td>6.0</td>\n",
              "      <td>0.024</td>\n",
              "      <td>82.0</td>\n",
              "      <td>0.328</td>\n",
              "    </tr>\n",
              "    <tr>\n",
              "      <th>7</th>\n",
              "      <td>NaN</td>\n",
              "      <td>NaN</td>\n",
              "      <td>2.0</td>\n",
              "      <td>0.008</td>\n",
              "      <td>2.0</td>\n",
              "      <td>0.008</td>\n",
              "      <td>39.0</td>\n",
              "      <td>0.156</td>\n",
              "    </tr>\n",
              "    <tr>\n",
              "      <th>8</th>\n",
              "      <td>3.0</td>\n",
              "      <td>0.012</td>\n",
              "      <td>2.0</td>\n",
              "      <td>0.008</td>\n",
              "      <td>2.0</td>\n",
              "      <td>0.008</td>\n",
              "      <td>18.0</td>\n",
              "      <td>0.072</td>\n",
              "    </tr>\n",
              "    <tr>\n",
              "      <th>9</th>\n",
              "      <td>1.0</td>\n",
              "      <td>0.004</td>\n",
              "      <td>NaN</td>\n",
              "      <td>NaN</td>\n",
              "      <td>NaN</td>\n",
              "      <td>NaN</td>\n",
              "      <td>14.0</td>\n",
              "      <td>0.056</td>\n",
              "    </tr>\n",
              "    <tr>\n",
              "      <th>10</th>\n",
              "      <td>NaN</td>\n",
              "      <td>NaN</td>\n",
              "      <td>NaN</td>\n",
              "      <td>NaN</td>\n",
              "      <td>NaN</td>\n",
              "      <td>NaN</td>\n",
              "      <td>2.0</td>\n",
              "      <td>0.008</td>\n",
              "    </tr>\n",
              "    <tr>\n",
              "      <th>11</th>\n",
              "      <td>NaN</td>\n",
              "      <td>NaN</td>\n",
              "      <td>NaN</td>\n",
              "      <td>NaN</td>\n",
              "      <td>NaN</td>\n",
              "      <td>NaN</td>\n",
              "      <td>3.0</td>\n",
              "      <td>0.012</td>\n",
              "    </tr>\n",
              "  </tbody>\n",
              "</table>\n",
              "</div>"
            ],
            "text/plain": [
              "     week_n  week_%  month_n  month_%  two_month_n  two_month_%  retained_n  \\\n",
              "0   23072.0  92.288  23583.0   94.332      23241.0       92.964     13368.0   \n",
              "1    1403.0   5.612    974.0    3.896       1205.0        4.820      6629.0   \n",
              "2     364.0   1.456    293.0    1.172        372.0        1.488      3181.0   \n",
              "3      96.0   0.384    100.0    0.400        111.0        0.444      1097.0   \n",
              "4      35.0   0.140     31.0    0.124         37.0        0.148       404.0   \n",
              "5      20.0   0.080     11.0    0.044         24.0        0.096       163.0   \n",
              "6       6.0   0.024      4.0    0.016          6.0        0.024        82.0   \n",
              "7       NaN     NaN      2.0    0.008          2.0        0.008        39.0   \n",
              "8       3.0   0.012      2.0    0.008          2.0        0.008        18.0   \n",
              "9       1.0   0.004      NaN      NaN          NaN          NaN        14.0   \n",
              "10      NaN     NaN      NaN      NaN          NaN          NaN         2.0   \n",
              "11      NaN     NaN      NaN      NaN          NaN          NaN         3.0   \n",
              "\n",
              "    retained_%  \n",
              "0       53.472  \n",
              "1       26.516  \n",
              "2       12.724  \n",
              "3        4.388  \n",
              "4        1.616  \n",
              "5        0.652  \n",
              "6        0.328  \n",
              "7        0.156  \n",
              "8        0.072  \n",
              "9        0.056  \n",
              "10       0.008  \n",
              "11       0.012  "
            ]
          },
          "metadata": {
            "tags": []
          },
          "execution_count": 14
        }
      ]
    },
    {
      "metadata": {
        "id": "hwbcfkEIzsDd",
        "colab_type": "text"
      },
      "cell_type": "markdown",
      "source": [
        "1. week 라벨에서도 복수의 길드 이력이 수백명. 이 게임은 길드란게 무엇인가?\n",
        "2. 이탈그룹(week, month, 2month) 내에서는 count의 변화 불규칙\n",
        "3. 분수에 맞지 않게 길드를 많이 옮겨다닌 이들 의심 가능"
      ]
    },
    {
      "metadata": {
        "id": "_-Js7RRs1sSp",
        "colab_type": "text"
      },
      "cell_type": "markdown",
      "source": [
        "-------"
      ]
    },
    {
      "metadata": {
        "id": "RyGBCLq41292",
        "colab_type": "text"
      },
      "cell_type": "markdown",
      "source": [
        "# 2. Trade와 존속 간 관계 파악"
      ]
    },
    {
      "metadata": {
        "id": "TwlfGE_KjNky",
        "colab_type": "text"
      },
      "cell_type": "markdown",
      "source": [
        "### 1. 오히려 판매'SOURCE'는 비이탈 retained 그룹이 확실히 많다. (평균 mean을 비교)\n",
        "### 2. 이탈 vs 비이탈 그룹을 나누는데 있어서 판매 (source)를 사용할 수 있겠지만, 이탈 그룹 내 3개의 라벨링에서는 불규칙한 변화를 보인다.\n"
      ]
    },
    {
      "metadata": {
        "id": "jN1PSx0w77Q8",
        "colab_type": "code",
        "colab": {}
      },
      "cell_type": "code",
      "source": [
        "file_id = '1007pJXd1CmfL7z8p0Vk34okvCAom0yVj'\n",
        "downloaded = drive.CreateFile({'id': file_id})\n",
        "downloaded.GetContentFile('train_label_w_trade.csv')"
      ],
      "execution_count": 0,
      "outputs": []
    },
    {
      "metadata": {
        "id": "qbDDF4kr9x1k",
        "colab_type": "code",
        "colab": {
          "base_uri": "https://localhost:8080/",
          "height": 204
        },
        "outputId": "269b0b86-36e2-4fed-954f-887caf631104"
      },
      "cell_type": "code",
      "source": [
        "import pandas as pd\n",
        "tr_label_w_trade = pd.read_csv('train_label_w_trade.csv')\n",
        "tr_label_w_trade.head()"
      ],
      "execution_count": 0,
      "outputs": [
        {
          "output_type": "execute_result",
          "data": {
            "text/html": [
              "<div>\n",
              "<style scoped>\n",
              "    .dataframe tbody tr th:only-of-type {\n",
              "        vertical-align: middle;\n",
              "    }\n",
              "\n",
              "    .dataframe tbody tr th {\n",
              "        vertical-align: top;\n",
              "    }\n",
              "\n",
              "    .dataframe thead th {\n",
              "        text-align: right;\n",
              "    }\n",
              "</style>\n",
              "<table border=\"1\" class=\"dataframe\">\n",
              "  <thead>\n",
              "    <tr style=\"text-align: right;\">\n",
              "      <th></th>\n",
              "      <th>acc_id</th>\n",
              "      <th>label</th>\n",
              "      <th>target_frequency</th>\n",
              "      <th>source_frequency</th>\n",
              "      <th>trade_factor</th>\n",
              "    </tr>\n",
              "  </thead>\n",
              "  <tbody>\n",
              "    <tr>\n",
              "      <th>0</th>\n",
              "      <td>b8fbf3f6a70e3f36843bffc70c18ff51a0d755a87616ec...</td>\n",
              "      <td>week</td>\n",
              "      <td>2</td>\n",
              "      <td>4</td>\n",
              "      <td>1</td>\n",
              "    </tr>\n",
              "    <tr>\n",
              "      <th>1</th>\n",
              "      <td>ed500c4957956b3e99dc3985666850b582f812405eefb6...</td>\n",
              "      <td>week</td>\n",
              "      <td>0</td>\n",
              "      <td>168</td>\n",
              "      <td>1</td>\n",
              "    </tr>\n",
              "    <tr>\n",
              "      <th>2</th>\n",
              "      <td>acc6afa23a6bf15e18151e4794c7789225ef9d682f473c...</td>\n",
              "      <td>week</td>\n",
              "      <td>2</td>\n",
              "      <td>4</td>\n",
              "      <td>1</td>\n",
              "    </tr>\n",
              "    <tr>\n",
              "      <th>3</th>\n",
              "      <td>34095a3c9a2937ced3ea3fd75e22ce177dc5879d2a53f7...</td>\n",
              "      <td>week</td>\n",
              "      <td>0</td>\n",
              "      <td>0</td>\n",
              "      <td>0</td>\n",
              "    </tr>\n",
              "    <tr>\n",
              "      <th>4</th>\n",
              "      <td>26f3db6e8817a93c4ceda9a16f0832945e43d950b95882...</td>\n",
              "      <td>week</td>\n",
              "      <td>0</td>\n",
              "      <td>0</td>\n",
              "      <td>0</td>\n",
              "    </tr>\n",
              "  </tbody>\n",
              "</table>\n",
              "</div>"
            ],
            "text/plain": [
              "                                              acc_id label  target_frequency  \\\n",
              "0  b8fbf3f6a70e3f36843bffc70c18ff51a0d755a87616ec...  week                 2   \n",
              "1  ed500c4957956b3e99dc3985666850b582f812405eefb6...  week                 0   \n",
              "2  acc6afa23a6bf15e18151e4794c7789225ef9d682f473c...  week                 2   \n",
              "3  34095a3c9a2937ced3ea3fd75e22ce177dc5879d2a53f7...  week                 0   \n",
              "4  26f3db6e8817a93c4ceda9a16f0832945e43d950b95882...  week                 0   \n",
              "\n",
              "   source_frequency  trade_factor  \n",
              "0                 4             1  \n",
              "1               168             1  \n",
              "2                 4             1  \n",
              "3                 0             0  \n",
              "4                 0             0  "
            ]
          },
          "metadata": {
            "tags": []
          },
          "execution_count": 10
        }
      ]
    },
    {
      "metadata": {
        "id": "x6hX7rFYJRf8",
        "colab_type": "code",
        "colab": {}
      },
      "cell_type": "code",
      "source": [
        "tr_label_w_trade['t1'] = tr_label_w_trade['target_frequency'] * tr_label_w_trade['source_frequency']"
      ],
      "execution_count": 0,
      "outputs": []
    },
    {
      "metadata": {
        "id": "oR6derG5Ja_z",
        "colab_type": "code",
        "colab": {
          "base_uri": "https://localhost:8080/",
          "height": 170
        },
        "outputId": "46edb372-5148-4f03-d493-3bc88bdeda9c"
      },
      "cell_type": "code",
      "source": [
        "tr_label_w_trade.t1.describe()"
      ],
      "execution_count": 0,
      "outputs": [
        {
          "output_type": "execute_result",
          "data": {
            "text/plain": [
              "count    1.000000e+05\n",
              "mean     5.218939e+04\n",
              "std      1.065572e+07\n",
              "min      0.000000e+00\n",
              "25%      0.000000e+00\n",
              "50%      0.000000e+00\n",
              "75%      0.000000e+00\n",
              "max      3.347511e+09\n",
              "Name: t1, dtype: float64"
            ]
          },
          "metadata": {
            "tags": []
          },
          "execution_count": 16
        }
      ]
    },
    {
      "metadata": {
        "id": "EGVr-AE098zU",
        "colab_type": "code",
        "colab": {}
      },
      "cell_type": "code",
      "source": [
        "def bar_plot(var):\n",
        "  week = tr_label_w_trade[tr_label_w_trade['label'] == 'week'][var].value_counts()\n",
        "  month = tr_label_w_trade[tr_label_w_trade['label'] == 'month'][var].value_counts()\n",
        "  two_month = tr_label_w_trade[tr_label_w_trade['label'] == '2month'][var].value_counts()\n",
        "  retained = tr_label_w_trade[tr_label_w_trade['label'] == 'retained'][var].value_counts()\n",
        "  df = pd.DataFrame([week, month, two_month, retained])\n",
        "  df.index = ['week', 'month', 'two_month', 'retained']\n",
        "  df.plot(kind = 'bar', stacked = True, figsize = (10, 5))"
      ],
      "execution_count": 0,
      "outputs": []
    },
    {
      "metadata": {
        "id": "CZBM25Be-NlO",
        "colab_type": "code",
        "colab": {
          "base_uri": "https://localhost:8080/",
          "height": 359
        },
        "outputId": "e02a8300-025b-4491-a1f6-e4f5fd9ad247"
      },
      "cell_type": "code",
      "source": [
        "bar_plot('trade_factor')"
      ],
      "execution_count": 0,
      "outputs": [
        {
          "output_type": "display_data",
          "data": {
            "image/png": "[encoded data removed]",
            "text/plain": [
              "<matplotlib.figure.Figure at 0x7fc8c9178c10>"
            ]
          },
          "metadata": {
            "tags": []
          }
        }
      ]
    },
    {
      "metadata": {
        "id": "nq8THKUfrRIv",
        "colab_type": "text"
      },
      "cell_type": "markdown",
      "source": [
        "### 비이탈자 vs 이탈자 관점에서 '거래 경험'은 유의미한 차이를 보인다. \n",
        "- retained의 절반 이상이 trade 경험 있음(여기서 trade 경험은 주고(sourcing) 받고(targeted) 모두\n",
        "- 이탈자 그룹에서는 흠... 5~8주 이탈자를 보면 꼭 거래 경험이 1주, 2~4주 이탈자보다 많은 것은 아니다.\n",
        "- 사람들이 거래 용도로 부계정을 사용?"
      ]
    },
    {
      "metadata": {
        "id": "TPNUY-EA-Z8t",
        "colab_type": "code",
        "colab": {}
      },
      "cell_type": "code",
      "source": [
        "df = pd.DataFrame(tr_label_w_trade.groupby('label')['target_frequency'].sum())"
      ],
      "execution_count": 0,
      "outputs": []
    },
    {
      "metadata": {
        "id": "jlRy_0lnA7tw",
        "colab_type": "code",
        "colab": {
          "base_uri": "https://localhost:8080/",
          "height": 204
        },
        "outputId": "a640cf48-d58a-42d4-b28d-79e7c8c3145f"
      },
      "cell_type": "code",
      "source": [
        "df"
      ],
      "execution_count": 0,
      "outputs": [
        {
          "output_type": "execute_result",
          "data": {
            "text/html": [
              "<div>\n",
              "<style scoped>\n",
              "    .dataframe tbody tr th:only-of-type {\n",
              "        vertical-align: middle;\n",
              "    }\n",
              "\n",
              "    .dataframe tbody tr th {\n",
              "        vertical-align: top;\n",
              "    }\n",
              "\n",
              "    .dataframe thead th {\n",
              "        text-align: right;\n",
              "    }\n",
              "</style>\n",
              "<table border=\"1\" class=\"dataframe\">\n",
              "  <thead>\n",
              "    <tr style=\"text-align: right;\">\n",
              "      <th></th>\n",
              "      <th>target_frequency</th>\n",
              "    </tr>\n",
              "    <tr>\n",
              "      <th>label</th>\n",
              "      <th></th>\n",
              "    </tr>\n",
              "  </thead>\n",
              "  <tbody>\n",
              "    <tr>\n",
              "      <th>2month</th>\n",
              "      <td>1987161</td>\n",
              "    </tr>\n",
              "    <tr>\n",
              "      <th>month</th>\n",
              "      <td>2000084</td>\n",
              "    </tr>\n",
              "    <tr>\n",
              "      <th>retained</th>\n",
              "      <td>1729849</td>\n",
              "    </tr>\n",
              "    <tr>\n",
              "      <th>week</th>\n",
              "      <td>917341</td>\n",
              "    </tr>\n",
              "  </tbody>\n",
              "</table>\n",
              "</div>"
            ],
            "text/plain": [
              "          target_frequency\n",
              "label                     \n",
              "2month             1987161\n",
              "month              2000084\n",
              "retained           1729849\n",
              "week                917341"
            ]
          },
          "metadata": {
            "tags": []
          },
          "execution_count": 20
        }
      ]
    },
    {
      "metadata": {
        "id": "wxneb7KE_3D8",
        "colab_type": "code",
        "colab": {}
      },
      "cell_type": "code",
      "source": [
        "df = df.transpose()"
      ],
      "execution_count": 0,
      "outputs": []
    },
    {
      "metadata": {
        "id": "KrME1gt6_78R",
        "colab_type": "code",
        "colab": {
          "base_uri": "https://localhost:8080/",
          "height": 80
        },
        "outputId": "b27d5f6a-844a-45d9-e8ee-be6846e12fde"
      },
      "cell_type": "code",
      "source": [
        "df"
      ],
      "execution_count": 0,
      "outputs": [
        {
          "output_type": "execute_result",
          "data": {
            "text/html": [
              "<div>\n",
              "<style scoped>\n",
              "    .dataframe tbody tr th:only-of-type {\n",
              "        vertical-align: middle;\n",
              "    }\n",
              "\n",
              "    .dataframe tbody tr th {\n",
              "        vertical-align: top;\n",
              "    }\n",
              "\n",
              "    .dataframe thead th {\n",
              "        text-align: right;\n",
              "    }\n",
              "</style>\n",
              "<table border=\"1\" class=\"dataframe\">\n",
              "  <thead>\n",
              "    <tr style=\"text-align: right;\">\n",
              "      <th>label</th>\n",
              "      <th>2month</th>\n",
              "      <th>month</th>\n",
              "      <th>retained</th>\n",
              "      <th>week</th>\n",
              "    </tr>\n",
              "  </thead>\n",
              "  <tbody>\n",
              "    <tr>\n",
              "      <th>target_frequency</th>\n",
              "      <td>1987161</td>\n",
              "      <td>2000084</td>\n",
              "      <td>1729849</td>\n",
              "      <td>917341</td>\n",
              "    </tr>\n",
              "  </tbody>\n",
              "</table>\n",
              "</div>"
            ],
            "text/plain": [
              "label              2month    month  retained    week\n",
              "target_frequency  1987161  2000084   1729849  917341"
            ]
          },
          "metadata": {
            "tags": []
          },
          "execution_count": 22
        }
      ]
    },
    {
      "metadata": {
        "id": "Ueog48eRBvIK",
        "colab_type": "code",
        "colab": {}
      },
      "cell_type": "code",
      "source": [
        "df.index = ['sum_of_target_freq']"
      ],
      "execution_count": 0,
      "outputs": []
    },
    {
      "metadata": {
        "id": "SFhQVirXBBfh",
        "colab_type": "code",
        "colab": {}
      },
      "cell_type": "code",
      "source": [
        "df = df[['week', 'month', '2month', 'retained']]"
      ],
      "execution_count": 0,
      "outputs": []
    },
    {
      "metadata": {
        "id": "RaRdpzbXBMgk",
        "colab_type": "code",
        "colab": {
          "base_uri": "https://localhost:8080/",
          "height": 80
        },
        "outputId": "26d4a1ce-4e64-4f4d-f2e6-595077d4fc7d"
      },
      "cell_type": "code",
      "source": [
        "df"
      ],
      "execution_count": 0,
      "outputs": [
        {
          "output_type": "execute_result",
          "data": {
            "text/html": [
              "<div>\n",
              "<style scoped>\n",
              "    .dataframe tbody tr th:only-of-type {\n",
              "        vertical-align: middle;\n",
              "    }\n",
              "\n",
              "    .dataframe tbody tr th {\n",
              "        vertical-align: top;\n",
              "    }\n",
              "\n",
              "    .dataframe thead th {\n",
              "        text-align: right;\n",
              "    }\n",
              "</style>\n",
              "<table border=\"1\" class=\"dataframe\">\n",
              "  <thead>\n",
              "    <tr style=\"text-align: right;\">\n",
              "      <th>label</th>\n",
              "      <th>week</th>\n",
              "      <th>month</th>\n",
              "      <th>2month</th>\n",
              "      <th>retained</th>\n",
              "    </tr>\n",
              "  </thead>\n",
              "  <tbody>\n",
              "    <tr>\n",
              "      <th>sum_of_target_freq</th>\n",
              "      <td>917341</td>\n",
              "      <td>2000084</td>\n",
              "      <td>1987161</td>\n",
              "      <td>1729849</td>\n",
              "    </tr>\n",
              "  </tbody>\n",
              "</table>\n",
              "</div>"
            ],
            "text/plain": [
              "label                 week    month   2month  retained\n",
              "sum_of_target_freq  917341  2000084  1987161   1729849"
            ]
          },
          "metadata": {
            "tags": []
          },
          "execution_count": 25
        }
      ]
    },
    {
      "metadata": {
        "id": "p6NZPnI_BM-S",
        "colab_type": "code",
        "colab": {
          "base_uri": "https://localhost:8080/",
          "height": 441
        },
        "outputId": "a9555340-fc3f-4ecc-8b5e-77b6bca8267f"
      },
      "cell_type": "code",
      "source": [
        "df.plot(kind = 'bar')"
      ],
      "execution_count": 0,
      "outputs": [
        {
          "output_type": "execute_result",
          "data": {
            "text/plain": [
              "<matplotlib.axes._subplots.AxesSubplot at 0x7fc8c921b450>"
            ]
          },
          "metadata": {
            "tags": []
          },
          "execution_count": 26
        },
        {
          "output_type": "display_data",
          "data": {
            "image/png": "[encoded data removed]",
            "text/plain": [
              "<matplotlib.figure.Figure at 0x7fc8c915c550>"
            ]
          },
          "metadata": {
            "tags": []
          }
        }
      ]
    },
    {
      "metadata": {
        "id": "Yvjjzm_YINL2",
        "colab_type": "text"
      },
      "cell_type": "markdown",
      "source": [
        "## 아이템 거래량 중 받은 거래의 수(구매 수 targeted) 의 라벨그룹별 합을 살펴보면, week를 제외한 나머지 그룹 간 차이가 별로 없다.\n",
        "- 어떻게보면 이탈그룹 중 mon, 2mon 중에 허수 아이디가 저렇게 많다는 뜻?\n",
        "- 아래의 '판매' 기록 수와 비교(판매는 오래 존속할 수록 많다 대체로)하면... 아이템을 사려는 용도로 더미 계정을 만든 사람들이 많다? 왜?"
      ]
    },
    {
      "metadata": {
        "id": "o-1xaJYlFbQO",
        "colab_type": "code",
        "colab": {}
      },
      "cell_type": "code",
      "source": [
        "df = (pd.DataFrame(tr_label_w_trade.groupby('label')['target_frequency'].describe())).transpose() #받는, 구매 행위"
      ],
      "execution_count": 0,
      "outputs": []
    },
    {
      "metadata": {
        "id": "y4LAoUGaF0DT",
        "colab_type": "code",
        "colab": {}
      },
      "cell_type": "code",
      "source": [
        "df = df[['week', 'month', '2month', 'retained']]"
      ],
      "execution_count": 0,
      "outputs": []
    },
    {
      "metadata": {
        "id": "N7BlvTRpGAB0",
        "colab_type": "code",
        "colab": {
          "base_uri": "https://localhost:8080/",
          "height": 297
        },
        "outputId": "90e0a5ce-3324-468d-a467-56e07fbe8458"
      },
      "cell_type": "code",
      "source": [
        "df"
      ],
      "execution_count": 0,
      "outputs": [
        {
          "output_type": "execute_result",
          "data": {
            "text/html": [
              "<div>\n",
              "<style scoped>\n",
              "    .dataframe tbody tr th:only-of-type {\n",
              "        vertical-align: middle;\n",
              "    }\n",
              "\n",
              "    .dataframe tbody tr th {\n",
              "        vertical-align: top;\n",
              "    }\n",
              "\n",
              "    .dataframe thead th {\n",
              "        text-align: right;\n",
              "    }\n",
              "</style>\n",
              "<table border=\"1\" class=\"dataframe\">\n",
              "  <thead>\n",
              "    <tr style=\"text-align: right;\">\n",
              "      <th>label</th>\n",
              "      <th>week</th>\n",
              "      <th>month</th>\n",
              "      <th>2month</th>\n",
              "      <th>retained</th>\n",
              "    </tr>\n",
              "  </thead>\n",
              "  <tbody>\n",
              "    <tr>\n",
              "      <th>count</th>\n",
              "      <td>25000.000000</td>\n",
              "      <td>25000.000000</td>\n",
              "      <td>25000.000000</td>\n",
              "      <td>25000.000000</td>\n",
              "    </tr>\n",
              "    <tr>\n",
              "      <th>mean</th>\n",
              "      <td>36.693640</td>\n",
              "      <td>80.003360</td>\n",
              "      <td>79.486440</td>\n",
              "      <td>69.193960</td>\n",
              "    </tr>\n",
              "    <tr>\n",
              "      <th>std</th>\n",
              "      <td>5301.390969</td>\n",
              "      <td>3554.650429</td>\n",
              "      <td>7015.479768</td>\n",
              "      <td>2807.730243</td>\n",
              "    </tr>\n",
              "    <tr>\n",
              "      <th>min</th>\n",
              "      <td>0.000000</td>\n",
              "      <td>0.000000</td>\n",
              "      <td>0.000000</td>\n",
              "      <td>0.000000</td>\n",
              "    </tr>\n",
              "    <tr>\n",
              "      <th>25%</th>\n",
              "      <td>0.000000</td>\n",
              "      <td>0.000000</td>\n",
              "      <td>0.000000</td>\n",
              "      <td>0.000000</td>\n",
              "    </tr>\n",
              "    <tr>\n",
              "      <th>50%</th>\n",
              "      <td>0.000000</td>\n",
              "      <td>0.000000</td>\n",
              "      <td>0.000000</td>\n",
              "      <td>0.000000</td>\n",
              "    </tr>\n",
              "    <tr>\n",
              "      <th>75%</th>\n",
              "      <td>2.000000</td>\n",
              "      <td>0.000000</td>\n",
              "      <td>0.000000</td>\n",
              "      <td>28.000000</td>\n",
              "    </tr>\n",
              "    <tr>\n",
              "      <th>max</th>\n",
              "      <td>838135.000000</td>\n",
              "      <td>248044.000000</td>\n",
              "      <td>879142.000000</td>\n",
              "      <td>361407.000000</td>\n",
              "    </tr>\n",
              "  </tbody>\n",
              "</table>\n",
              "</div>"
            ],
            "text/plain": [
              "label           week          month         2month       retained\n",
              "count   25000.000000   25000.000000   25000.000000   25000.000000\n",
              "mean       36.693640      80.003360      79.486440      69.193960\n",
              "std      5301.390969    3554.650429    7015.479768    2807.730243\n",
              "min         0.000000       0.000000       0.000000       0.000000\n",
              "25%         0.000000       0.000000       0.000000       0.000000\n",
              "50%         0.000000       0.000000       0.000000       0.000000\n",
              "75%         2.000000       0.000000       0.000000      28.000000\n",
              "max    838135.000000  248044.000000  879142.000000  361407.000000"
            ]
          },
          "metadata": {
            "tags": []
          },
          "execution_count": 29
        }
      ]
    },
    {
      "metadata": {
        "id": "mqn-0me8GBLr",
        "colab_type": "code",
        "colab": {}
      },
      "cell_type": "code",
      "source": [
        "df = (pd.DataFrame(tr_label_w_trade.groupby('label')['source_frequency'].describe())).transpose() #주는, 판매 행위"
      ],
      "execution_count": 0,
      "outputs": []
    },
    {
      "metadata": {
        "id": "iRO_1bf4F8OY",
        "colab_type": "code",
        "colab": {}
      },
      "cell_type": "code",
      "source": [
        "df = df[['week', 'month', '2month', 'retained']]"
      ],
      "execution_count": 0,
      "outputs": []
    },
    {
      "metadata": {
        "id": "EDdQVgI8Is0n",
        "colab_type": "code",
        "colab": {
          "base_uri": "https://localhost:8080/",
          "height": 297
        },
        "outputId": "ca236308-37c4-4c51-8db1-2c44ce69f3a2"
      },
      "cell_type": "code",
      "source": [
        "df"
      ],
      "execution_count": 0,
      "outputs": [
        {
          "output_type": "execute_result",
          "data": {
            "text/html": [
              "<div>\n",
              "<style scoped>\n",
              "    .dataframe tbody tr th:only-of-type {\n",
              "        vertical-align: middle;\n",
              "    }\n",
              "\n",
              "    .dataframe tbody tr th {\n",
              "        vertical-align: top;\n",
              "    }\n",
              "\n",
              "    .dataframe thead th {\n",
              "        text-align: right;\n",
              "    }\n",
              "</style>\n",
              "<table border=\"1\" class=\"dataframe\">\n",
              "  <thead>\n",
              "    <tr style=\"text-align: right;\">\n",
              "      <th>label</th>\n",
              "      <th>week</th>\n",
              "      <th>month</th>\n",
              "      <th>2month</th>\n",
              "      <th>retained</th>\n",
              "    </tr>\n",
              "  </thead>\n",
              "  <tbody>\n",
              "    <tr>\n",
              "      <th>count</th>\n",
              "      <td>25000.000000</td>\n",
              "      <td>25000.000000</td>\n",
              "      <td>25000.000000</td>\n",
              "      <td>25000.000000</td>\n",
              "    </tr>\n",
              "    <tr>\n",
              "      <th>mean</th>\n",
              "      <td>24.707880</td>\n",
              "      <td>64.579480</td>\n",
              "      <td>39.873800</td>\n",
              "      <td>112.084280</td>\n",
              "    </tr>\n",
              "    <tr>\n",
              "      <th>std</th>\n",
              "      <td>105.950715</td>\n",
              "      <td>178.550803</td>\n",
              "      <td>196.439218</td>\n",
              "      <td>282.446174</td>\n",
              "    </tr>\n",
              "    <tr>\n",
              "      <th>min</th>\n",
              "      <td>0.000000</td>\n",
              "      <td>0.000000</td>\n",
              "      <td>0.000000</td>\n",
              "      <td>0.000000</td>\n",
              "    </tr>\n",
              "    <tr>\n",
              "      <th>25%</th>\n",
              "      <td>0.000000</td>\n",
              "      <td>0.000000</td>\n",
              "      <td>0.000000</td>\n",
              "      <td>0.000000</td>\n",
              "    </tr>\n",
              "    <tr>\n",
              "      <th>50%</th>\n",
              "      <td>0.000000</td>\n",
              "      <td>0.000000</td>\n",
              "      <td>0.000000</td>\n",
              "      <td>10.000000</td>\n",
              "    </tr>\n",
              "    <tr>\n",
              "      <th>75%</th>\n",
              "      <td>12.000000</td>\n",
              "      <td>56.000000</td>\n",
              "      <td>0.000000</td>\n",
              "      <td>65.000000</td>\n",
              "    </tr>\n",
              "    <tr>\n",
              "      <th>max</th>\n",
              "      <td>5060.000000</td>\n",
              "      <td>8891.000000</td>\n",
              "      <td>5731.000000</td>\n",
              "      <td>4615.000000</td>\n",
              "    </tr>\n",
              "  </tbody>\n",
              "</table>\n",
              "</div>"
            ],
            "text/plain": [
              "label          week         month        2month      retained\n",
              "count  25000.000000  25000.000000  25000.000000  25000.000000\n",
              "mean      24.707880     64.579480     39.873800    112.084280\n",
              "std      105.950715    178.550803    196.439218    282.446174\n",
              "min        0.000000      0.000000      0.000000      0.000000\n",
              "25%        0.000000      0.000000      0.000000      0.000000\n",
              "50%        0.000000      0.000000      0.000000     10.000000\n",
              "75%       12.000000     56.000000      0.000000     65.000000\n",
              "max     5060.000000   8891.000000   5731.000000   4615.000000"
            ]
          },
          "metadata": {
            "tags": []
          },
          "execution_count": 34
        }
      ]
    },
    {
      "metadata": {
        "id": "lOkyo1QRI-14",
        "colab_type": "text"
      },
      "cell_type": "markdown",
      "source": [
        "### 1. 판매'SOURCE'는 비이탈 retained 그룹이 확실히 많다. (평균 mean을 비교)\n",
        "### 2. 이탈 vs 비이탈 그룹을 나누는데 있어서 판매 (source)를 사용할 수 있겠지만, 이탈 그룹 내 3개의 라벨링에서는 또 불규칙한 변화를 보인다.\n"
      ]
    },
    {
      "metadata": {
        "id": "XlA1FSuVXljw",
        "colab_type": "text"
      },
      "cell_type": "markdown",
      "source": [
        "-----------"
      ]
    },
    {
      "metadata": {
        "id": "dCca9hTlXnhG",
        "colab_type": "text"
      },
      "cell_type": "markdown",
      "source": [
        "#3. party와 존속 간 관계 파악"
      ]
    },
    {
      "metadata": {
        "id": "ZA2dN02OnnhX",
        "colab_type": "text"
      },
      "cell_type": "markdown",
      "source": [
        "### - party_factor에서는 week 집단의 파티 경험 비율이 retained보다도 높은 구조... <br/> 또한 이탈 그룹 내에서도 month, 2month로 갈수록 경험이 줄어듬...\n",
        "### - party_frequency는 그나마 이탈 vs 비이탈 구도 측면에서 retained 그룹의 평균치가 높다.\n",
        "### - 의문점... 첫번째처럼 비이탈 그룹 내 직관과 다른 결과가 나오더라도 마스터 테이블에 사용해야하는가?<br/> 일단 다 넣고?"
      ]
    },
    {
      "metadata": {
        "id": "KCc6KZYYXxDV",
        "colab_type": "code",
        "colab": {}
      },
      "cell_type": "code",
      "source": [
        "file_id = '1zbzMfSMlhE7FH6_Y_zs24Ju-JR9SrUr6'\n",
        "downloaded = drive.CreateFile({'id': file_id})\n",
        "downloaded.GetContentFile('train_label_w_party.csv')"
      ],
      "execution_count": 0,
      "outputs": []
    },
    {
      "metadata": {
        "id": "pBFydDzxYTjp",
        "colab_type": "code",
        "colab": {
          "base_uri": "https://localhost:8080/",
          "height": 224
        },
        "outputId": "6ce216ed-6fc4-4ee7-f956-76597e0cf615"
      },
      "cell_type": "code",
      "source": [
        "import pandas as pd\n",
        "tr_label_w_party = pd.read_csv('train_label_w_party.csv')\n",
        "tr_label_w_party.head()"
      ],
      "execution_count": 3,
      "outputs": [
        {
          "output_type": "execute_result",
          "data": {
            "text/html": [
              "<div>\n",
              "<style scoped>\n",
              "    .dataframe tbody tr th:only-of-type {\n",
              "        vertical-align: middle;\n",
              "    }\n",
              "\n",
              "    .dataframe tbody tr th {\n",
              "        vertical-align: top;\n",
              "    }\n",
              "\n",
              "    .dataframe thead th {\n",
              "        text-align: right;\n",
              "    }\n",
              "</style>\n",
              "<table border=\"1\" class=\"dataframe\">\n",
              "  <thead>\n",
              "    <tr style=\"text-align: right;\">\n",
              "      <th></th>\n",
              "      <th>acc_id</th>\n",
              "      <th>label</th>\n",
              "      <th>party_frequency</th>\n",
              "      <th>party_factor</th>\n",
              "    </tr>\n",
              "  </thead>\n",
              "  <tbody>\n",
              "    <tr>\n",
              "      <th>0</th>\n",
              "      <td>b8fbf3f6a70e3f36843bffc70c18ff51a0d755a87616ec...</td>\n",
              "      <td>week</td>\n",
              "      <td>218</td>\n",
              "      <td>1</td>\n",
              "    </tr>\n",
              "    <tr>\n",
              "      <th>1</th>\n",
              "      <td>ed500c4957956b3e99dc3985666850b582f812405eefb6...</td>\n",
              "      <td>week</td>\n",
              "      <td>203</td>\n",
              "      <td>1</td>\n",
              "    </tr>\n",
              "    <tr>\n",
              "      <th>2</th>\n",
              "      <td>acc6afa23a6bf15e18151e4794c7789225ef9d682f473c...</td>\n",
              "      <td>week</td>\n",
              "      <td>157</td>\n",
              "      <td>1</td>\n",
              "    </tr>\n",
              "    <tr>\n",
              "      <th>3</th>\n",
              "      <td>34095a3c9a2937ced3ea3fd75e22ce177dc5879d2a53f7...</td>\n",
              "      <td>week</td>\n",
              "      <td>0</td>\n",
              "      <td>0</td>\n",
              "    </tr>\n",
              "    <tr>\n",
              "      <th>4</th>\n",
              "      <td>26f3db6e8817a93c4ceda9a16f0832945e43d950b95882...</td>\n",
              "      <td>week</td>\n",
              "      <td>57</td>\n",
              "      <td>1</td>\n",
              "    </tr>\n",
              "  </tbody>\n",
              "</table>\n",
              "</div>"
            ],
            "text/plain": [
              "                                              acc_id label  party_frequency  \\\n",
              "0  b8fbf3f6a70e3f36843bffc70c18ff51a0d755a87616ec...  week              218   \n",
              "1  ed500c4957956b3e99dc3985666850b582f812405eefb6...  week              203   \n",
              "2  acc6afa23a6bf15e18151e4794c7789225ef9d682f473c...  week              157   \n",
              "3  34095a3c9a2937ced3ea3fd75e22ce177dc5879d2a53f7...  week                0   \n",
              "4  26f3db6e8817a93c4ceda9a16f0832945e43d950b95882...  week               57   \n",
              "\n",
              "   party_factor  \n",
              "0             1  \n",
              "1             1  \n",
              "2             1  \n",
              "3             0  \n",
              "4             1  "
            ]
          },
          "metadata": {
            "tags": []
          },
          "execution_count": 3
        }
      ]
    },
    {
      "metadata": {
        "id": "a2FhDpNyYiHI",
        "colab_type": "code",
        "colab": {
          "base_uri": "https://localhost:8080/",
          "height": 34
        },
        "outputId": "c65a59b6-b7e3-40ee-aec9-8604cdf71178"
      },
      "cell_type": "code",
      "source": [
        "tr_label_w_party.shape"
      ],
      "execution_count": 4,
      "outputs": [
        {
          "output_type": "execute_result",
          "data": {
            "text/plain": [
              "(100000, 4)"
            ]
          },
          "metadata": {
            "tags": []
          },
          "execution_count": 4
        }
      ]
    },
    {
      "metadata": {
        "id": "ulcSdUK0YleG",
        "colab_type": "code",
        "colab": {
          "base_uri": "https://localhost:8080/",
          "height": 297
        },
        "outputId": "63e701a4-468c-484c-83e0-805af5e3b60f"
      },
      "cell_type": "code",
      "source": [
        "tr_label_w_party.describe()"
      ],
      "execution_count": 5,
      "outputs": [
        {
          "output_type": "execute_result",
          "data": {
            "text/html": [
              "<div>\n",
              "<style scoped>\n",
              "    .dataframe tbody tr th:only-of-type {\n",
              "        vertical-align: middle;\n",
              "    }\n",
              "\n",
              "    .dataframe tbody tr th {\n",
              "        vertical-align: top;\n",
              "    }\n",
              "\n",
              "    .dataframe thead th {\n",
              "        text-align: right;\n",
              "    }\n",
              "</style>\n",
              "<table border=\"1\" class=\"dataframe\">\n",
              "  <thead>\n",
              "    <tr style=\"text-align: right;\">\n",
              "      <th></th>\n",
              "      <th>party_frequency</th>\n",
              "      <th>party_factor</th>\n",
              "    </tr>\n",
              "  </thead>\n",
              "  <tbody>\n",
              "    <tr>\n",
              "      <th>count</th>\n",
              "      <td>100000.000000</td>\n",
              "      <td>100000.00000</td>\n",
              "    </tr>\n",
              "    <tr>\n",
              "      <th>mean</th>\n",
              "      <td>138.771360</td>\n",
              "      <td>0.54358</td>\n",
              "    </tr>\n",
              "    <tr>\n",
              "      <th>std</th>\n",
              "      <td>317.428912</td>\n",
              "      <td>0.49810</td>\n",
              "    </tr>\n",
              "    <tr>\n",
              "      <th>min</th>\n",
              "      <td>0.000000</td>\n",
              "      <td>0.00000</td>\n",
              "    </tr>\n",
              "    <tr>\n",
              "      <th>25%</th>\n",
              "      <td>0.000000</td>\n",
              "      <td>0.00000</td>\n",
              "    </tr>\n",
              "    <tr>\n",
              "      <th>50%</th>\n",
              "      <td>9.000000</td>\n",
              "      <td>1.00000</td>\n",
              "    </tr>\n",
              "    <tr>\n",
              "      <th>75%</th>\n",
              "      <td>161.000000</td>\n",
              "      <td>1.00000</td>\n",
              "    </tr>\n",
              "    <tr>\n",
              "      <th>max</th>\n",
              "      <td>31498.000000</td>\n",
              "      <td>1.00000</td>\n",
              "    </tr>\n",
              "  </tbody>\n",
              "</table>\n",
              "</div>"
            ],
            "text/plain": [
              "       party_frequency  party_factor\n",
              "count    100000.000000  100000.00000\n",
              "mean        138.771360       0.54358\n",
              "std         317.428912       0.49810\n",
              "min           0.000000       0.00000\n",
              "25%           0.000000       0.00000\n",
              "50%           9.000000       1.00000\n",
              "75%         161.000000       1.00000\n",
              "max       31498.000000       1.00000"
            ]
          },
          "metadata": {
            "tags": []
          },
          "execution_count": 5
        }
      ]
    },
    {
      "metadata": {
        "id": "x0dObMPbYpiR",
        "colab_type": "code",
        "colab": {
          "base_uri": "https://localhost:8080/",
          "height": 255
        },
        "outputId": "0ce26d2e-29c8-4a94-9da2-b3ae256fcdf7"
      },
      "cell_type": "code",
      "source": [
        "tr_label_w_party.groupby('label').describe()"
      ],
      "execution_count": 7,
      "outputs": [
        {
          "output_type": "execute_result",
          "data": {
            "text/html": [
              "<div>\n",
              "<style scoped>\n",
              "    .dataframe tbody tr th:only-of-type {\n",
              "        vertical-align: middle;\n",
              "    }\n",
              "\n",
              "    .dataframe tbody tr th {\n",
              "        vertical-align: top;\n",
              "    }\n",
              "\n",
              "    .dataframe thead tr th {\n",
              "        text-align: left;\n",
              "    }\n",
              "\n",
              "    .dataframe thead tr:last-of-type th {\n",
              "        text-align: right;\n",
              "    }\n",
              "</style>\n",
              "<table border=\"1\" class=\"dataframe\">\n",
              "  <thead>\n",
              "    <tr>\n",
              "      <th></th>\n",
              "      <th colspan=\"8\" halign=\"left\">party_factor</th>\n",
              "      <th colspan=\"8\" halign=\"left\">party_frequency</th>\n",
              "    </tr>\n",
              "    <tr>\n",
              "      <th></th>\n",
              "      <th>count</th>\n",
              "      <th>mean</th>\n",
              "      <th>std</th>\n",
              "      <th>min</th>\n",
              "      <th>25%</th>\n",
              "      <th>50%</th>\n",
              "      <th>75%</th>\n",
              "      <th>max</th>\n",
              "      <th>count</th>\n",
              "      <th>mean</th>\n",
              "      <th>std</th>\n",
              "      <th>min</th>\n",
              "      <th>25%</th>\n",
              "      <th>50%</th>\n",
              "      <th>75%</th>\n",
              "      <th>max</th>\n",
              "    </tr>\n",
              "    <tr>\n",
              "      <th>label</th>\n",
              "      <th></th>\n",
              "      <th></th>\n",
              "      <th></th>\n",
              "      <th></th>\n",
              "      <th></th>\n",
              "      <th></th>\n",
              "      <th></th>\n",
              "      <th></th>\n",
              "      <th></th>\n",
              "      <th></th>\n",
              "      <th></th>\n",
              "      <th></th>\n",
              "      <th></th>\n",
              "      <th></th>\n",
              "      <th></th>\n",
              "      <th></th>\n",
              "    </tr>\n",
              "  </thead>\n",
              "  <tbody>\n",
              "    <tr>\n",
              "      <th>2month</th>\n",
              "      <td>25000.0</td>\n",
              "      <td>0.19192</td>\n",
              "      <td>0.393818</td>\n",
              "      <td>0.0</td>\n",
              "      <td>0.0</td>\n",
              "      <td>0.0</td>\n",
              "      <td>0.0</td>\n",
              "      <td>1.0</td>\n",
              "      <td>25000.0</td>\n",
              "      <td>46.64672</td>\n",
              "      <td>160.400333</td>\n",
              "      <td>0.0</td>\n",
              "      <td>0.0</td>\n",
              "      <td>0.0</td>\n",
              "      <td>0.0</td>\n",
              "      <td>2426.0</td>\n",
              "    </tr>\n",
              "    <tr>\n",
              "      <th>month</th>\n",
              "      <td>25000.0</td>\n",
              "      <td>0.45608</td>\n",
              "      <td>0.498077</td>\n",
              "      <td>0.0</td>\n",
              "      <td>0.0</td>\n",
              "      <td>0.0</td>\n",
              "      <td>1.0</td>\n",
              "      <td>1.0</td>\n",
              "      <td>25000.0</td>\n",
              "      <td>96.43472</td>\n",
              "      <td>214.033902</td>\n",
              "      <td>0.0</td>\n",
              "      <td>0.0</td>\n",
              "      <td>0.0</td>\n",
              "      <td>61.0</td>\n",
              "      <td>2422.0</td>\n",
              "    </tr>\n",
              "    <tr>\n",
              "      <th>retained</th>\n",
              "      <td>25000.0</td>\n",
              "      <td>0.67284</td>\n",
              "      <td>0.469186</td>\n",
              "      <td>0.0</td>\n",
              "      <td>0.0</td>\n",
              "      <td>1.0</td>\n",
              "      <td>1.0</td>\n",
              "      <td>1.0</td>\n",
              "      <td>25000.0</td>\n",
              "      <td>249.33268</td>\n",
              "      <td>514.682904</td>\n",
              "      <td>0.0</td>\n",
              "      <td>0.0</td>\n",
              "      <td>98.0</td>\n",
              "      <td>404.0</td>\n",
              "      <td>31498.0</td>\n",
              "    </tr>\n",
              "    <tr>\n",
              "      <th>week</th>\n",
              "      <td>25000.0</td>\n",
              "      <td>0.85348</td>\n",
              "      <td>0.353634</td>\n",
              "      <td>0.0</td>\n",
              "      <td>1.0</td>\n",
              "      <td>1.0</td>\n",
              "      <td>1.0</td>\n",
              "      <td>1.0</td>\n",
              "      <td>25000.0</td>\n",
              "      <td>162.67132</td>\n",
              "      <td>208.671995</td>\n",
              "      <td>0.0</td>\n",
              "      <td>26.0</td>\n",
              "      <td>89.0</td>\n",
              "      <td>208.0</td>\n",
              "      <td>1740.0</td>\n",
              "    </tr>\n",
              "  </tbody>\n",
              "</table>\n",
              "</div>"
            ],
            "text/plain": [
              "         party_factor                                              \\\n",
              "                count     mean       std  min  25%  50%  75%  max   \n",
              "label                                                               \n",
              "2month        25000.0  0.19192  0.393818  0.0  0.0  0.0  0.0  1.0   \n",
              "month         25000.0  0.45608  0.498077  0.0  0.0  0.0  1.0  1.0   \n",
              "retained      25000.0  0.67284  0.469186  0.0  0.0  1.0  1.0  1.0   \n",
              "week          25000.0  0.85348  0.353634  0.0  1.0  1.0  1.0  1.0   \n",
              "\n",
              "         party_frequency                                                 \\\n",
              "                   count       mean         std  min   25%   50%    75%   \n",
              "label                                                                     \n",
              "2month           25000.0   46.64672  160.400333  0.0   0.0   0.0    0.0   \n",
              "month            25000.0   96.43472  214.033902  0.0   0.0   0.0   61.0   \n",
              "retained         25000.0  249.33268  514.682904  0.0   0.0  98.0  404.0   \n",
              "week             25000.0  162.67132  208.671995  0.0  26.0  89.0  208.0   \n",
              "\n",
              "                   \n",
              "              max  \n",
              "label              \n",
              "2month     2426.0  \n",
              "month      2422.0  \n",
              "retained  31498.0  \n",
              "week       1740.0  "
            ]
          },
          "metadata": {
            "tags": []
          },
          "execution_count": 7
        }
      ]
    },
    {
      "metadata": {
        "id": "Ko8Cvs_bZCiB",
        "colab_type": "code",
        "colab": {}
      },
      "cell_type": "code",
      "source": [
        "df_3 = tr_label_w_party.groupby('label').describe().transpose()"
      ],
      "execution_count": 0,
      "outputs": []
    },
    {
      "metadata": {
        "id": "icXHQ4VSZQrK",
        "colab_type": "code",
        "colab": {}
      },
      "cell_type": "code",
      "source": [
        "df_3 = df_3[['week', 'month', '2month', 'retained']]"
      ],
      "execution_count": 0,
      "outputs": []
    },
    {
      "metadata": {
        "id": "qY5JwbxjZW_S",
        "colab_type": "code",
        "colab": {
          "base_uri": "https://localhost:8080/",
          "height": 565
        },
        "outputId": "cd599c19-7cc5-42de-febf-3f6c5ae5c674"
      },
      "cell_type": "code",
      "source": [
        "df_3"
      ],
      "execution_count": 11,
      "outputs": [
        {
          "output_type": "execute_result",
          "data": {
            "text/html": [
              "<div>\n",
              "<style scoped>\n",
              "    .dataframe tbody tr th:only-of-type {\n",
              "        vertical-align: middle;\n",
              "    }\n",
              "\n",
              "    .dataframe tbody tr th {\n",
              "        vertical-align: top;\n",
              "    }\n",
              "\n",
              "    .dataframe thead th {\n",
              "        text-align: right;\n",
              "    }\n",
              "</style>\n",
              "<table border=\"1\" class=\"dataframe\">\n",
              "  <thead>\n",
              "    <tr style=\"text-align: right;\">\n",
              "      <th></th>\n",
              "      <th>label</th>\n",
              "      <th>week</th>\n",
              "      <th>month</th>\n",
              "      <th>2month</th>\n",
              "      <th>retained</th>\n",
              "    </tr>\n",
              "  </thead>\n",
              "  <tbody>\n",
              "    <tr>\n",
              "      <th rowspan=\"8\" valign=\"top\">party_factor</th>\n",
              "      <th>count</th>\n",
              "      <td>25000.000000</td>\n",
              "      <td>25000.000000</td>\n",
              "      <td>25000.000000</td>\n",
              "      <td>25000.000000</td>\n",
              "    </tr>\n",
              "    <tr>\n",
              "      <th>mean</th>\n",
              "      <td>0.853480</td>\n",
              "      <td>0.456080</td>\n",
              "      <td>0.191920</td>\n",
              "      <td>0.672840</td>\n",
              "    </tr>\n",
              "    <tr>\n",
              "      <th>std</th>\n",
              "      <td>0.353634</td>\n",
              "      <td>0.498077</td>\n",
              "      <td>0.393818</td>\n",
              "      <td>0.469186</td>\n",
              "    </tr>\n",
              "    <tr>\n",
              "      <th>min</th>\n",
              "      <td>0.000000</td>\n",
              "      <td>0.000000</td>\n",
              "      <td>0.000000</td>\n",
              "      <td>0.000000</td>\n",
              "    </tr>\n",
              "    <tr>\n",
              "      <th>25%</th>\n",
              "      <td>1.000000</td>\n",
              "      <td>0.000000</td>\n",
              "      <td>0.000000</td>\n",
              "      <td>0.000000</td>\n",
              "    </tr>\n",
              "    <tr>\n",
              "      <th>50%</th>\n",
              "      <td>1.000000</td>\n",
              "      <td>0.000000</td>\n",
              "      <td>0.000000</td>\n",
              "      <td>1.000000</td>\n",
              "    </tr>\n",
              "    <tr>\n",
              "      <th>75%</th>\n",
              "      <td>1.000000</td>\n",
              "      <td>1.000000</td>\n",
              "      <td>0.000000</td>\n",
              "      <td>1.000000</td>\n",
              "    </tr>\n",
              "    <tr>\n",
              "      <th>max</th>\n",
              "      <td>1.000000</td>\n",
              "      <td>1.000000</td>\n",
              "      <td>1.000000</td>\n",
              "      <td>1.000000</td>\n",
              "    </tr>\n",
              "    <tr>\n",
              "      <th rowspan=\"8\" valign=\"top\">party_frequency</th>\n",
              "      <th>count</th>\n",
              "      <td>25000.000000</td>\n",
              "      <td>25000.000000</td>\n",
              "      <td>25000.000000</td>\n",
              "      <td>25000.000000</td>\n",
              "    </tr>\n",
              "    <tr>\n",
              "      <th>mean</th>\n",
              "      <td>162.671320</td>\n",
              "      <td>96.434720</td>\n",
              "      <td>46.646720</td>\n",
              "      <td>249.332680</td>\n",
              "    </tr>\n",
              "    <tr>\n",
              "      <th>std</th>\n",
              "      <td>208.671995</td>\n",
              "      <td>214.033902</td>\n",
              "      <td>160.400333</td>\n",
              "      <td>514.682904</td>\n",
              "    </tr>\n",
              "    <tr>\n",
              "      <th>min</th>\n",
              "      <td>0.000000</td>\n",
              "      <td>0.000000</td>\n",
              "      <td>0.000000</td>\n",
              "      <td>0.000000</td>\n",
              "    </tr>\n",
              "    <tr>\n",
              "      <th>25%</th>\n",
              "      <td>26.000000</td>\n",
              "      <td>0.000000</td>\n",
              "      <td>0.000000</td>\n",
              "      <td>0.000000</td>\n",
              "    </tr>\n",
              "    <tr>\n",
              "      <th>50%</th>\n",
              "      <td>89.000000</td>\n",
              "      <td>0.000000</td>\n",
              "      <td>0.000000</td>\n",
              "      <td>98.000000</td>\n",
              "    </tr>\n",
              "    <tr>\n",
              "      <th>75%</th>\n",
              "      <td>208.000000</td>\n",
              "      <td>61.000000</td>\n",
              "      <td>0.000000</td>\n",
              "      <td>404.000000</td>\n",
              "    </tr>\n",
              "    <tr>\n",
              "      <th>max</th>\n",
              "      <td>1740.000000</td>\n",
              "      <td>2422.000000</td>\n",
              "      <td>2426.000000</td>\n",
              "      <td>31498.000000</td>\n",
              "    </tr>\n",
              "  </tbody>\n",
              "</table>\n",
              "</div>"
            ],
            "text/plain": [
              "label                          week         month        2month      retained\n",
              "party_factor    count  25000.000000  25000.000000  25000.000000  25000.000000\n",
              "                mean       0.853480      0.456080      0.191920      0.672840\n",
              "                std        0.353634      0.498077      0.393818      0.469186\n",
              "                min        0.000000      0.000000      0.000000      0.000000\n",
              "                25%        1.000000      0.000000      0.000000      0.000000\n",
              "                50%        1.000000      0.000000      0.000000      1.000000\n",
              "                75%        1.000000      1.000000      0.000000      1.000000\n",
              "                max        1.000000      1.000000      1.000000      1.000000\n",
              "party_frequency count  25000.000000  25000.000000  25000.000000  25000.000000\n",
              "                mean     162.671320     96.434720     46.646720    249.332680\n",
              "                std      208.671995    214.033902    160.400333    514.682904\n",
              "                min        0.000000      0.000000      0.000000      0.000000\n",
              "                25%       26.000000      0.000000      0.000000      0.000000\n",
              "                50%       89.000000      0.000000      0.000000     98.000000\n",
              "                75%      208.000000     61.000000      0.000000    404.000000\n",
              "                max     1740.000000   2422.000000   2426.000000  31498.000000"
            ]
          },
          "metadata": {
            "tags": []
          },
          "execution_count": 11
        }
      ]
    },
    {
      "metadata": {
        "id": "ecUxxaxPbQ8V",
        "colab_type": "code",
        "colab": {}
      },
      "cell_type": "code",
      "source": [
        "v_0 = tr_label_w_party.groupby('label')['party_factor'].value_counts()"
      ],
      "execution_count": 0,
      "outputs": []
    },
    {
      "metadata": {
        "id": "wJvGIa1VdDk6",
        "colab_type": "code",
        "colab": {}
      },
      "cell_type": "code",
      "source": [
        "v_0 = pd.DataFrame(v_0)"
      ],
      "execution_count": 0,
      "outputs": []
    },
    {
      "metadata": {
        "id": "YEIVdrHUdHf6",
        "colab_type": "code",
        "colab": {
          "base_uri": "https://localhost:8080/",
          "height": 328
        },
        "outputId": "d800093a-0af8-4b53-c858-6358b5d376ac"
      },
      "cell_type": "code",
      "source": [
        "v_0"
      ],
      "execution_count": 72,
      "outputs": [
        {
          "output_type": "execute_result",
          "data": {
            "text/html": [
              "<div>\n",
              "<style scoped>\n",
              "    .dataframe tbody tr th:only-of-type {\n",
              "        vertical-align: middle;\n",
              "    }\n",
              "\n",
              "    .dataframe tbody tr th {\n",
              "        vertical-align: top;\n",
              "    }\n",
              "\n",
              "    .dataframe thead th {\n",
              "        text-align: right;\n",
              "    }\n",
              "</style>\n",
              "<table border=\"1\" class=\"dataframe\">\n",
              "  <thead>\n",
              "    <tr style=\"text-align: right;\">\n",
              "      <th></th>\n",
              "      <th></th>\n",
              "      <th>party_factor</th>\n",
              "    </tr>\n",
              "    <tr>\n",
              "      <th>label</th>\n",
              "      <th>party_factor</th>\n",
              "      <th></th>\n",
              "    </tr>\n",
              "  </thead>\n",
              "  <tbody>\n",
              "    <tr>\n",
              "      <th rowspan=\"2\" valign=\"top\">2month</th>\n",
              "      <th>0</th>\n",
              "      <td>20202</td>\n",
              "    </tr>\n",
              "    <tr>\n",
              "      <th>1</th>\n",
              "      <td>4798</td>\n",
              "    </tr>\n",
              "    <tr>\n",
              "      <th rowspan=\"2\" valign=\"top\">month</th>\n",
              "      <th>0</th>\n",
              "      <td>13598</td>\n",
              "    </tr>\n",
              "    <tr>\n",
              "      <th>1</th>\n",
              "      <td>11402</td>\n",
              "    </tr>\n",
              "    <tr>\n",
              "      <th rowspan=\"2\" valign=\"top\">retained</th>\n",
              "      <th>1</th>\n",
              "      <td>16821</td>\n",
              "    </tr>\n",
              "    <tr>\n",
              "      <th>0</th>\n",
              "      <td>8179</td>\n",
              "    </tr>\n",
              "    <tr>\n",
              "      <th rowspan=\"2\" valign=\"top\">week</th>\n",
              "      <th>1</th>\n",
              "      <td>21337</td>\n",
              "    </tr>\n",
              "    <tr>\n",
              "      <th>0</th>\n",
              "      <td>3663</td>\n",
              "    </tr>\n",
              "  </tbody>\n",
              "</table>\n",
              "</div>"
            ],
            "text/plain": [
              "                       party_factor\n",
              "label    party_factor              \n",
              "2month   0                    20202\n",
              "         1                     4798\n",
              "month    0                    13598\n",
              "         1                    11402\n",
              "retained 1                    16821\n",
              "         0                     8179\n",
              "week     1                    21337\n",
              "         0                     3663"
            ]
          },
          "metadata": {
            "tags": []
          },
          "execution_count": 72
        }
      ]
    },
    {
      "metadata": {
        "id": "w_jl5X4hinyi",
        "colab_type": "code",
        "colab": {}
      },
      "cell_type": "code",
      "source": [
        "# 멀티 index의 재정렬법 https://stackoverflow.com/questions/34029608/reorder-levels-of-multiindex-in-a-pandas-dataframe"
      ],
      "execution_count": 0,
      "outputs": []
    },
    {
      "metadata": {
        "id": "yhrLFR5EdaET",
        "colab_type": "code",
        "colab": {
          "base_uri": "https://localhost:8080/",
          "height": 422
        },
        "outputId": "0749bc9b-b157-4967-c69c-76b846fd6eee"
      },
      "cell_type": "code",
      "source": [
        "v_0.plot(kind = 'bar')"
      ],
      "execution_count": 55,
      "outputs": [
        {
          "output_type": "execute_result",
          "data": {
            "text/plain": [
              "<matplotlib.axes._subplots.AxesSubplot at 0x7f4bd3f835d0>"
            ]
          },
          "metadata": {
            "tags": []
          },
          "execution_count": 55
        },
        {
          "output_type": "display_data",
          "data": {
            "image/png": "[encoded data removed]",
            "text/plain": [
              "<matplotlib.figure.Figure at 0x7f4bd3f8c350>"
            ]
          },
          "metadata": {
            "tags": []
          }
        }
      ]
    },
    {
      "metadata": {
        "id": "qDym3wZveyWD",
        "colab_type": "code",
        "colab": {}
      },
      "cell_type": "code",
      "source": [
        "def bar_plot(var):\n",
        "  week = tr_label_w_party[tr_label_w_party['label'] == 'week'][var].value_counts()\n",
        "  month = tr_label_w_party[tr_label_w_party['label'] == 'month'][var].value_counts()\n",
        "  two_month = tr_label_w_party[tr_label_w_party['label'] == '2month'][var].value_counts()\n",
        "  retained = tr_label_w_party[tr_label_w_party['label'] == 'retained'][var].value_counts()\n",
        "  df = pd.DataFrame([week, month, two_month, retained])\n",
        "  df.index = ['week', 'month', 'two_month', 'retained']\n",
        "  df.plot(kind = 'bar', stacked = True, figsize = (10, 5))\n",
        "  df"
      ],
      "execution_count": 0,
      "outputs": []
    },
    {
      "metadata": {
        "id": "x5qFltnpfQcj",
        "colab_type": "code",
        "colab": {
          "base_uri": "https://localhost:8080/",
          "height": 379
        },
        "outputId": "4ac3b880-6b81-404c-a9ea-f7fe617da1ed"
      },
      "cell_type": "code",
      "source": [
        "bar_plot('party_factor')"
      ],
      "execution_count": 60,
      "outputs": [
        {
          "output_type": "display_data",
          "data": {
            "image/png": "[encoded data removed]",
            "text/plain": [
              "<matplotlib.figure.Figure at 0x7f4bd1cea750>"
            ]
          },
          "metadata": {
            "tags": []
          }
        }
      ]
    },
    {
      "metadata": {
        "id": "rOyLjseyfTLj",
        "colab_type": "code",
        "colab": {}
      },
      "cell_type": "code",
      "source": [
        "def bar_plot2(var):\n",
        "  week = tr_label_w_party[tr_label_w_party['label'] == 'week'][var].value_counts()\n",
        "  month = tr_label_w_party[tr_label_w_party['label'] == 'month'][var].value_counts()\n",
        "  two_month = tr_label_w_party[tr_label_w_party['label'] == '2month'][var].value_counts()\n",
        "  retained = tr_label_w_party[tr_label_w_party['label'] == 'retained'][var].value_counts()\n",
        "  df = pd.DataFrame([week, month, two_month, retained])\n",
        "  df.index = ['week', 'month', 'two_month', 'retained']\n",
        "  print(df)"
      ],
      "execution_count": 0,
      "outputs": []
    },
    {
      "metadata": {
        "id": "ksyJtJc2f1py",
        "colab_type": "text"
      },
      "cell_type": "markdown",
      "source": [
        "### - 의문점...\n",
        "- 파티 해본 경험 있는 자들이 week서 가장 많다 우선(retained 보다도.)"
      ]
    },
    {
      "metadata": {
        "id": "GR9POp6yfhy3",
        "colab_type": "code",
        "colab": {
          "base_uri": "https://localhost:8080/",
          "height": 102
        },
        "outputId": "1037992d-6738-41c9-bd8e-a5d31c2f41d8"
      },
      "cell_type": "code",
      "source": [
        "bar_plot2('party_factor')"
      ],
      "execution_count": 63,
      "outputs": [
        {
          "output_type": "stream",
          "text": [
            "               0      1\n",
            "week        3663  21337\n",
            "month      13598  11402\n",
            "two_month  20202   4798\n",
            "retained    8179  16821\n"
          ],
          "name": "stdout"
        }
      ]
    },
    {
      "metadata": {
        "id": "aOLaIQdXZYEq",
        "colab_type": "code",
        "colab": {
          "base_uri": "https://localhost:8080/",
          "height": 204
        },
        "outputId": "f12bbec5-284d-4ba2-ff11-13fd9a22089c"
      },
      "cell_type": "code",
      "source": [
        "#party에 참여한적 있는가 없는가의 factor\n",
        "pd.DataFrame(tr_label_w_party.groupby('label')['party_factor'].mean())"
      ],
      "execution_count": 19,
      "outputs": [
        {
          "output_type": "execute_result",
          "data": {
            "text/html": [
              "<div>\n",
              "<style scoped>\n",
              "    .dataframe tbody tr th:only-of-type {\n",
              "        vertical-align: middle;\n",
              "    }\n",
              "\n",
              "    .dataframe tbody tr th {\n",
              "        vertical-align: top;\n",
              "    }\n",
              "\n",
              "    .dataframe thead th {\n",
              "        text-align: right;\n",
              "    }\n",
              "</style>\n",
              "<table border=\"1\" class=\"dataframe\">\n",
              "  <thead>\n",
              "    <tr style=\"text-align: right;\">\n",
              "      <th></th>\n",
              "      <th>party_factor</th>\n",
              "    </tr>\n",
              "    <tr>\n",
              "      <th>label</th>\n",
              "      <th></th>\n",
              "    </tr>\n",
              "  </thead>\n",
              "  <tbody>\n",
              "    <tr>\n",
              "      <th>2month</th>\n",
              "      <td>0.19192</td>\n",
              "    </tr>\n",
              "    <tr>\n",
              "      <th>month</th>\n",
              "      <td>0.45608</td>\n",
              "    </tr>\n",
              "    <tr>\n",
              "      <th>retained</th>\n",
              "      <td>0.67284</td>\n",
              "    </tr>\n",
              "    <tr>\n",
              "      <th>week</th>\n",
              "      <td>0.85348</td>\n",
              "    </tr>\n",
              "  </tbody>\n",
              "</table>\n",
              "</div>"
            ],
            "text/plain": [
              "          party_factor\n",
              "label                 \n",
              "2month         0.19192\n",
              "month          0.45608\n",
              "retained       0.67284\n",
              "week           0.85348"
            ]
          },
          "metadata": {
            "tags": []
          },
          "execution_count": 19
        }
      ]
    },
    {
      "metadata": {
        "id": "3RRCYGUfayHP",
        "colab_type": "code",
        "colab": {}
      },
      "cell_type": "code",
      "source": [
        "v_1 = pd.DataFrame(tr_label_w_party.groupby('label')['party_factor'].mean())"
      ],
      "execution_count": 0,
      "outputs": []
    },
    {
      "metadata": {
        "id": "CdULsVv6a4kq",
        "colab_type": "code",
        "colab": {
          "base_uri": "https://localhost:8080/",
          "height": 80
        },
        "outputId": "93d9630b-4cb8-4ae5-a742-4bbda4a2a822"
      },
      "cell_type": "code",
      "source": [
        "v_1.transpose()"
      ],
      "execution_count": 21,
      "outputs": [
        {
          "output_type": "execute_result",
          "data": {
            "text/html": [
              "<div>\n",
              "<style scoped>\n",
              "    .dataframe tbody tr th:only-of-type {\n",
              "        vertical-align: middle;\n",
              "    }\n",
              "\n",
              "    .dataframe tbody tr th {\n",
              "        vertical-align: top;\n",
              "    }\n",
              "\n",
              "    .dataframe thead th {\n",
              "        text-align: right;\n",
              "    }\n",
              "</style>\n",
              "<table border=\"1\" class=\"dataframe\">\n",
              "  <thead>\n",
              "    <tr style=\"text-align: right;\">\n",
              "      <th>label</th>\n",
              "      <th>2month</th>\n",
              "      <th>month</th>\n",
              "      <th>retained</th>\n",
              "      <th>week</th>\n",
              "    </tr>\n",
              "  </thead>\n",
              "  <tbody>\n",
              "    <tr>\n",
              "      <th>party_factor</th>\n",
              "      <td>0.19192</td>\n",
              "      <td>0.45608</td>\n",
              "      <td>0.67284</td>\n",
              "      <td>0.85348</td>\n",
              "    </tr>\n",
              "  </tbody>\n",
              "</table>\n",
              "</div>"
            ],
            "text/plain": [
              "label          2month    month  retained     week\n",
              "party_factor  0.19192  0.45608   0.67284  0.85348"
            ]
          },
          "metadata": {
            "tags": []
          },
          "execution_count": 21
        }
      ]
    },
    {
      "metadata": {
        "id": "D1wK9bRsa50g",
        "colab_type": "code",
        "colab": {}
      },
      "cell_type": "code",
      "source": [
        "v_1 = v_1.transpose()"
      ],
      "execution_count": 0,
      "outputs": []
    },
    {
      "metadata": {
        "id": "HwkPPwXMa96u",
        "colab_type": "code",
        "colab": {}
      },
      "cell_type": "code",
      "source": [
        "v_1 = v_1[['week', 'month', '2month', 'retained']]"
      ],
      "execution_count": 0,
      "outputs": []
    },
    {
      "metadata": {
        "id": "v6MOvPTGbCUS",
        "colab_type": "code",
        "colab": {
          "base_uri": "https://localhost:8080/",
          "height": 422
        },
        "outputId": "61cd7032-f13f-42bf-c0a4-4641eccd1be7"
      },
      "cell_type": "code",
      "source": [
        "v_1.plot(kind = 'bar', title = '')"
      ],
      "execution_count": 25,
      "outputs": [
        {
          "output_type": "execute_result",
          "data": {
            "text/plain": [
              "<matplotlib.axes._subplots.AxesSubplot at 0x7f4bd4284910>"
            ]
          },
          "metadata": {
            "tags": []
          },
          "execution_count": 25
        },
        {
          "output_type": "display_data",
          "data": {
            "image/png": "[encoded data removed]",
            "text/plain": [
              "<matplotlib.figure.Figure at 0x7f4bd4219590>"
            ]
          },
          "metadata": {
            "tags": []
          }
        }
      ]
    },
    {
      "metadata": {
        "id": "PO_iNrxCbH05",
        "colab_type": "code",
        "colab": {
          "base_uri": "https://localhost:8080/",
          "height": 204
        },
        "outputId": "b41882c0-cbc3-40cb-b381-9af7d121d70e"
      },
      "cell_type": "code",
      "source": [
        "v_1.transpose()"
      ],
      "execution_count": 53,
      "outputs": [
        {
          "output_type": "execute_result",
          "data": {
            "text/html": [
              "<div>\n",
              "<style scoped>\n",
              "    .dataframe tbody tr th:only-of-type {\n",
              "        vertical-align: middle;\n",
              "    }\n",
              "\n",
              "    .dataframe tbody tr th {\n",
              "        vertical-align: top;\n",
              "    }\n",
              "\n",
              "    .dataframe thead th {\n",
              "        text-align: right;\n",
              "    }\n",
              "</style>\n",
              "<table border=\"1\" class=\"dataframe\">\n",
              "  <thead>\n",
              "    <tr style=\"text-align: right;\">\n",
              "      <th></th>\n",
              "      <th>party_factor</th>\n",
              "    </tr>\n",
              "    <tr>\n",
              "      <th>label</th>\n",
              "      <th></th>\n",
              "    </tr>\n",
              "  </thead>\n",
              "  <tbody>\n",
              "    <tr>\n",
              "      <th>week</th>\n",
              "      <td>0.85348</td>\n",
              "    </tr>\n",
              "    <tr>\n",
              "      <th>month</th>\n",
              "      <td>0.45608</td>\n",
              "    </tr>\n",
              "    <tr>\n",
              "      <th>2month</th>\n",
              "      <td>0.19192</td>\n",
              "    </tr>\n",
              "    <tr>\n",
              "      <th>retained</th>\n",
              "      <td>0.67284</td>\n",
              "    </tr>\n",
              "  </tbody>\n",
              "</table>\n",
              "</div>"
            ],
            "text/plain": [
              "          party_factor\n",
              "label                 \n",
              "week           0.85348\n",
              "month          0.45608\n",
              "2month         0.19192\n",
              "retained       0.67284"
            ]
          },
          "metadata": {
            "tags": []
          },
          "execution_count": 53
        }
      ]
    },
    {
      "metadata": {
        "id": "W2VIJT-OeVWb",
        "colab_type": "code",
        "colab": {
          "base_uri": "https://localhost:8080/",
          "height": 404
        },
        "outputId": "e8f1891f-ed00-44e7-8e8d-ced04244d232"
      },
      "cell_type": "code",
      "source": [
        "v_1.transpose().plot(kind = 'bar')"
      ],
      "execution_count": 54,
      "outputs": [
        {
          "output_type": "execute_result",
          "data": {
            "text/plain": [
              "<matplotlib.axes._subplots.AxesSubplot at 0x7f4bd4032c50>"
            ]
          },
          "metadata": {
            "tags": []
          },
          "execution_count": 54
        },
        {
          "output_type": "display_data",
          "data": {
            "image/png": "[encoded data removed]",
            "text/plain": [
              "<matplotlib.figure.Figure at 0x7f4bd4023110>"
            ]
          },
          "metadata": {
            "tags": []
          }
        }
      ]
    },
    {
      "metadata": {
        "id": "f7H_n-CjaQto",
        "colab_type": "code",
        "colab": {}
      },
      "cell_type": "code",
      "source": [
        "# 아래부터 파티에 참여한 횟수(factor 0, 1이 아닌)"
      ],
      "execution_count": 0,
      "outputs": []
    },
    {
      "metadata": {
        "id": "P0269ysHgyOQ",
        "colab_type": "code",
        "colab": {
          "base_uri": "https://localhost:8080/",
          "height": 204
        },
        "outputId": "40222872-f979-473e-a5fa-0519a001e17e"
      },
      "cell_type": "code",
      "source": [
        "tr_label_w_party.groupby('label').party_frequency.describe()"
      ],
      "execution_count": 66,
      "outputs": [
        {
          "output_type": "execute_result",
          "data": {
            "text/html": [
              "<div>\n",
              "<style scoped>\n",
              "    .dataframe tbody tr th:only-of-type {\n",
              "        vertical-align: middle;\n",
              "    }\n",
              "\n",
              "    .dataframe tbody tr th {\n",
              "        vertical-align: top;\n",
              "    }\n",
              "\n",
              "    .dataframe thead th {\n",
              "        text-align: right;\n",
              "    }\n",
              "</style>\n",
              "<table border=\"1\" class=\"dataframe\">\n",
              "  <thead>\n",
              "    <tr style=\"text-align: right;\">\n",
              "      <th></th>\n",
              "      <th>count</th>\n",
              "      <th>mean</th>\n",
              "      <th>std</th>\n",
              "      <th>min</th>\n",
              "      <th>25%</th>\n",
              "      <th>50%</th>\n",
              "      <th>75%</th>\n",
              "      <th>max</th>\n",
              "    </tr>\n",
              "    <tr>\n",
              "      <th>label</th>\n",
              "      <th></th>\n",
              "      <th></th>\n",
              "      <th></th>\n",
              "      <th></th>\n",
              "      <th></th>\n",
              "      <th></th>\n",
              "      <th></th>\n",
              "      <th></th>\n",
              "    </tr>\n",
              "  </thead>\n",
              "  <tbody>\n",
              "    <tr>\n",
              "      <th>2month</th>\n",
              "      <td>25000.0</td>\n",
              "      <td>46.64672</td>\n",
              "      <td>160.400333</td>\n",
              "      <td>0.0</td>\n",
              "      <td>0.0</td>\n",
              "      <td>0.0</td>\n",
              "      <td>0.0</td>\n",
              "      <td>2426.0</td>\n",
              "    </tr>\n",
              "    <tr>\n",
              "      <th>month</th>\n",
              "      <td>25000.0</td>\n",
              "      <td>96.43472</td>\n",
              "      <td>214.033902</td>\n",
              "      <td>0.0</td>\n",
              "      <td>0.0</td>\n",
              "      <td>0.0</td>\n",
              "      <td>61.0</td>\n",
              "      <td>2422.0</td>\n",
              "    </tr>\n",
              "    <tr>\n",
              "      <th>retained</th>\n",
              "      <td>25000.0</td>\n",
              "      <td>249.33268</td>\n",
              "      <td>514.682904</td>\n",
              "      <td>0.0</td>\n",
              "      <td>0.0</td>\n",
              "      <td>98.0</td>\n",
              "      <td>404.0</td>\n",
              "      <td>31498.0</td>\n",
              "    </tr>\n",
              "    <tr>\n",
              "      <th>week</th>\n",
              "      <td>25000.0</td>\n",
              "      <td>162.67132</td>\n",
              "      <td>208.671995</td>\n",
              "      <td>0.0</td>\n",
              "      <td>26.0</td>\n",
              "      <td>89.0</td>\n",
              "      <td>208.0</td>\n",
              "      <td>1740.0</td>\n",
              "    </tr>\n",
              "  </tbody>\n",
              "</table>\n",
              "</div>"
            ],
            "text/plain": [
              "            count       mean         std  min   25%   50%    75%      max\n",
              "label                                                                    \n",
              "2month    25000.0   46.64672  160.400333  0.0   0.0   0.0    0.0   2426.0\n",
              "month     25000.0   96.43472  214.033902  0.0   0.0   0.0   61.0   2422.0\n",
              "retained  25000.0  249.33268  514.682904  0.0   0.0  98.0  404.0  31498.0\n",
              "week      25000.0  162.67132  208.671995  0.0  26.0  89.0  208.0   1740.0"
            ]
          },
          "metadata": {
            "tags": []
          },
          "execution_count": 66
        }
      ]
    },
    {
      "metadata": {
        "id": "MbIIPRxTg-yK",
        "colab_type": "code",
        "colab": {}
      },
      "cell_type": "code",
      "source": [
        "v_2 = tr_label_w_party.groupby('label').party_frequency.describe()"
      ],
      "execution_count": 0,
      "outputs": []
    },
    {
      "metadata": {
        "id": "7VykkXuXhLRe",
        "colab_type": "code",
        "colab": {}
      },
      "cell_type": "code",
      "source": [
        "v_2 = v_2.loc[['week', 'month', '2month', 'retained'], :]"
      ],
      "execution_count": 0,
      "outputs": []
    },
    {
      "metadata": {
        "id": "h-s_3_E5hSzy",
        "colab_type": "code",
        "colab": {
          "base_uri": "https://localhost:8080/",
          "height": 204
        },
        "outputId": "f053740c-409c-4be8-eb98-a3045cf10ab8"
      },
      "cell_type": "code",
      "source": [
        "v_2"
      ],
      "execution_count": 69,
      "outputs": [
        {
          "output_type": "execute_result",
          "data": {
            "text/html": [
              "<div>\n",
              "<style scoped>\n",
              "    .dataframe tbody tr th:only-of-type {\n",
              "        vertical-align: middle;\n",
              "    }\n",
              "\n",
              "    .dataframe tbody tr th {\n",
              "        vertical-align: top;\n",
              "    }\n",
              "\n",
              "    .dataframe thead th {\n",
              "        text-align: right;\n",
              "    }\n",
              "</style>\n",
              "<table border=\"1\" class=\"dataframe\">\n",
              "  <thead>\n",
              "    <tr style=\"text-align: right;\">\n",
              "      <th></th>\n",
              "      <th>count</th>\n",
              "      <th>mean</th>\n",
              "      <th>std</th>\n",
              "      <th>min</th>\n",
              "      <th>25%</th>\n",
              "      <th>50%</th>\n",
              "      <th>75%</th>\n",
              "      <th>max</th>\n",
              "    </tr>\n",
              "    <tr>\n",
              "      <th>label</th>\n",
              "      <th></th>\n",
              "      <th></th>\n",
              "      <th></th>\n",
              "      <th></th>\n",
              "      <th></th>\n",
              "      <th></th>\n",
              "      <th></th>\n",
              "      <th></th>\n",
              "    </tr>\n",
              "  </thead>\n",
              "  <tbody>\n",
              "    <tr>\n",
              "      <th>week</th>\n",
              "      <td>25000.0</td>\n",
              "      <td>162.67132</td>\n",
              "      <td>208.671995</td>\n",
              "      <td>0.0</td>\n",
              "      <td>26.0</td>\n",
              "      <td>89.0</td>\n",
              "      <td>208.0</td>\n",
              "      <td>1740.0</td>\n",
              "    </tr>\n",
              "    <tr>\n",
              "      <th>month</th>\n",
              "      <td>25000.0</td>\n",
              "      <td>96.43472</td>\n",
              "      <td>214.033902</td>\n",
              "      <td>0.0</td>\n",
              "      <td>0.0</td>\n",
              "      <td>0.0</td>\n",
              "      <td>61.0</td>\n",
              "      <td>2422.0</td>\n",
              "    </tr>\n",
              "    <tr>\n",
              "      <th>2month</th>\n",
              "      <td>25000.0</td>\n",
              "      <td>46.64672</td>\n",
              "      <td>160.400333</td>\n",
              "      <td>0.0</td>\n",
              "      <td>0.0</td>\n",
              "      <td>0.0</td>\n",
              "      <td>0.0</td>\n",
              "      <td>2426.0</td>\n",
              "    </tr>\n",
              "    <tr>\n",
              "      <th>retained</th>\n",
              "      <td>25000.0</td>\n",
              "      <td>249.33268</td>\n",
              "      <td>514.682904</td>\n",
              "      <td>0.0</td>\n",
              "      <td>0.0</td>\n",
              "      <td>98.0</td>\n",
              "      <td>404.0</td>\n",
              "      <td>31498.0</td>\n",
              "    </tr>\n",
              "  </tbody>\n",
              "</table>\n",
              "</div>"
            ],
            "text/plain": [
              "            count       mean         std  min   25%   50%    75%      max\n",
              "label                                                                    \n",
              "week      25000.0  162.67132  208.671995  0.0  26.0  89.0  208.0   1740.0\n",
              "month     25000.0   96.43472  214.033902  0.0   0.0   0.0   61.0   2422.0\n",
              "2month    25000.0   46.64672  160.400333  0.0   0.0   0.0    0.0   2426.0\n",
              "retained  25000.0  249.33268  514.682904  0.0   0.0  98.0  404.0  31498.0"
            ]
          },
          "metadata": {
            "tags": []
          },
          "execution_count": 69
        }
      ]
    },
    {
      "metadata": {
        "id": "eiA-OjvghTe8",
        "colab_type": "code",
        "colab": {
          "base_uri": "https://localhost:8080/",
          "height": 297
        },
        "outputId": "f913f104-3b65-4fb7-8d33-b1c77842de94"
      },
      "cell_type": "code",
      "source": [
        "v_2.transpose()"
      ],
      "execution_count": 70,
      "outputs": [
        {
          "output_type": "execute_result",
          "data": {
            "text/html": [
              "<div>\n",
              "<style scoped>\n",
              "    .dataframe tbody tr th:only-of-type {\n",
              "        vertical-align: middle;\n",
              "    }\n",
              "\n",
              "    .dataframe tbody tr th {\n",
              "        vertical-align: top;\n",
              "    }\n",
              "\n",
              "    .dataframe thead th {\n",
              "        text-align: right;\n",
              "    }\n",
              "</style>\n",
              "<table border=\"1\" class=\"dataframe\">\n",
              "  <thead>\n",
              "    <tr style=\"text-align: right;\">\n",
              "      <th>label</th>\n",
              "      <th>week</th>\n",
              "      <th>month</th>\n",
              "      <th>2month</th>\n",
              "      <th>retained</th>\n",
              "    </tr>\n",
              "  </thead>\n",
              "  <tbody>\n",
              "    <tr>\n",
              "      <th>count</th>\n",
              "      <td>25000.000000</td>\n",
              "      <td>25000.000000</td>\n",
              "      <td>25000.000000</td>\n",
              "      <td>25000.000000</td>\n",
              "    </tr>\n",
              "    <tr>\n",
              "      <th>mean</th>\n",
              "      <td>162.671320</td>\n",
              "      <td>96.434720</td>\n",
              "      <td>46.646720</td>\n",
              "      <td>249.332680</td>\n",
              "    </tr>\n",
              "    <tr>\n",
              "      <th>std</th>\n",
              "      <td>208.671995</td>\n",
              "      <td>214.033902</td>\n",
              "      <td>160.400333</td>\n",
              "      <td>514.682904</td>\n",
              "    </tr>\n",
              "    <tr>\n",
              "      <th>min</th>\n",
              "      <td>0.000000</td>\n",
              "      <td>0.000000</td>\n",
              "      <td>0.000000</td>\n",
              "      <td>0.000000</td>\n",
              "    </tr>\n",
              "    <tr>\n",
              "      <th>25%</th>\n",
              "      <td>26.000000</td>\n",
              "      <td>0.000000</td>\n",
              "      <td>0.000000</td>\n",
              "      <td>0.000000</td>\n",
              "    </tr>\n",
              "    <tr>\n",
              "      <th>50%</th>\n",
              "      <td>89.000000</td>\n",
              "      <td>0.000000</td>\n",
              "      <td>0.000000</td>\n",
              "      <td>98.000000</td>\n",
              "    </tr>\n",
              "    <tr>\n",
              "      <th>75%</th>\n",
              "      <td>208.000000</td>\n",
              "      <td>61.000000</td>\n",
              "      <td>0.000000</td>\n",
              "      <td>404.000000</td>\n",
              "    </tr>\n",
              "    <tr>\n",
              "      <th>max</th>\n",
              "      <td>1740.000000</td>\n",
              "      <td>2422.000000</td>\n",
              "      <td>2426.000000</td>\n",
              "      <td>31498.000000</td>\n",
              "    </tr>\n",
              "  </tbody>\n",
              "</table>\n",
              "</div>"
            ],
            "text/plain": [
              "label          week         month        2month      retained\n",
              "count  25000.000000  25000.000000  25000.000000  25000.000000\n",
              "mean     162.671320     96.434720     46.646720    249.332680\n",
              "std      208.671995    214.033902    160.400333    514.682904\n",
              "min        0.000000      0.000000      0.000000      0.000000\n",
              "25%       26.000000      0.000000      0.000000      0.000000\n",
              "50%       89.000000      0.000000      0.000000     98.000000\n",
              "75%      208.000000     61.000000      0.000000    404.000000\n",
              "max     1740.000000   2422.000000   2426.000000  31498.000000"
            ]
          },
          "metadata": {
            "tags": []
          },
          "execution_count": 70
        }
      ]
    },
    {
      "metadata": {
        "id": "PeT9zto2hWDd",
        "colab_type": "code",
        "colab": {
          "base_uri": "https://localhost:8080/",
          "height": 404
        },
        "outputId": "b67f481c-75eb-4f0a-97bc-c9d9bed39096"
      },
      "cell_type": "code",
      "source": [
        "v_2.transpose().loc['mean'].plot(kind = 'bar')"
      ],
      "execution_count": 71,
      "outputs": [
        {
          "output_type": "execute_result",
          "data": {
            "text/plain": [
              "<matplotlib.axes._subplots.AxesSubplot at 0x7f4bd4076090>"
            ]
          },
          "metadata": {
            "tags": []
          },
          "execution_count": 71
        },
        {
          "output_type": "display_data",
          "data": {
            "image/png": "[encoded data removed]",
            "text/plain": [
              "<matplotlib.figure.Figure at 0x7f4bd4011ad0>"
            ]
          },
          "metadata": {
            "tags": []
          }
        }
      ]
    },
    {
      "metadata": {
        "id": "tnQxxQSpidOP",
        "colab_type": "text"
      },
      "cell_type": "markdown",
      "source": [
        "- 확실히 이탈 vs 비이탈 구도에서 retained 집단의 평균 파티 참여 횟수가 높다.\n",
        "- 하지만 비이탈 그룹 내에서 직관과는 다른 결과를 드러낸다. 다 2.5만명인데 장기체류자 평균이 왜 줄어드는가?"
      ]
    },
    {
      "metadata": {
        "id": "DIoS-f40qYXQ",
        "colab_type": "text"
      },
      "cell_type": "markdown",
      "source": [
        "\n",
        "### - party_factor에서는 week 집단의 파티 경험 비율이 retained보다도 높은 구조... <br/> 또한 이탈 그룹 내에서도 month, 2month로 갈수록 경험이 줄어듬...\n",
        "### - party_frequency는 그나마 이탈 vs 비이탈 구도 측면에서 retained 그룹의 평균치가 높다.\n",
        "### - 의문점... 첫번째처럼 비이탈 그룹 내 직관과 다른 결과가 나오더라도 마스터 테이블에 사용해야하는가?<br/> 일단 다 넣고?"
      ]
    },
    {
      "metadata": {
        "id": "Q2TODP8Cqb82",
        "colab_type": "text"
      },
      "cell_type": "markdown",
      "source": [
        "---------"
      ]
    },
    {
      "metadata": {
        "id": "sm-hrPIWJ19j",
        "colab_type": "text"
      },
      "cell_type": "markdown",
      "source": [
        "# 4. Payment\n",
        "### - factor, total, @8week 모두 직관과 일치한 경향(장기 존속일수록 지출 평균, 경험 up)\n",
        "### - 허나 이탈 그룹 내 3 라벨링 간 차이가 유의한가는 두고 봐야..."
      ]
    },
    {
      "metadata": {
        "id": "yNw8qLrqqcsO",
        "colab_type": "code",
        "colab": {}
      },
      "cell_type": "code",
      "source": [
        "file_id = '1MJnJm5m3ItFkCDybCn0sbhdB3gV-UOTs'\n",
        "downloaded = drive.CreateFile({'id': file_id})\n",
        "downloaded.GetContentFile('train_label_w_payment.csv')"
      ],
      "execution_count": 0,
      "outputs": []
    },
    {
      "metadata": {
        "id": "jWeswsVsKBZa",
        "colab_type": "code",
        "colab": {
          "base_uri": "https://localhost:8080/",
          "height": 204
        },
        "outputId": "0995ca35-d2e7-4ac3-8801-66b228317013"
      },
      "cell_type": "code",
      "source": [
        "import pandas as pd\n",
        "tr_label_w_payment = pd.read_csv('tr_label_w_payment.csv')\n",
        "tr_label_w_payment.head()"
      ],
      "execution_count": 20,
      "outputs": [
        {
          "output_type": "execute_result",
          "data": {
            "text/html": [
              "<div>\n",
              "<style scoped>\n",
              "    .dataframe tbody tr th:only-of-type {\n",
              "        vertical-align: middle;\n",
              "    }\n",
              "\n",
              "    .dataframe tbody tr th {\n",
              "        vertical-align: top;\n",
              "    }\n",
              "\n",
              "    .dataframe thead th {\n",
              "        text-align: right;\n",
              "    }\n",
              "</style>\n",
              "<table border=\"1\" class=\"dataframe\">\n",
              "  <thead>\n",
              "    <tr style=\"text-align: right;\">\n",
              "      <th></th>\n",
              "      <th>Unnamed: 0</th>\n",
              "      <th>acc_id</th>\n",
              "      <th>label</th>\n",
              "      <th>payment_amount_total</th>\n",
              "      <th>payment_amount_at_8</th>\n",
              "      <th>payment_factor</th>\n",
              "    </tr>\n",
              "  </thead>\n",
              "  <tbody>\n",
              "    <tr>\n",
              "      <th>0</th>\n",
              "      <td>0</td>\n",
              "      <td>b8fbf3f6a70e3f36843bffc70c18ff51a0d755a87616ec...</td>\n",
              "      <td>week</td>\n",
              "      <td>-1.199188</td>\n",
              "      <td>-0.149898</td>\n",
              "      <td>0</td>\n",
              "    </tr>\n",
              "    <tr>\n",
              "      <th>1</th>\n",
              "      <td>1</td>\n",
              "      <td>ed500c4957956b3e99dc3985666850b582f812405eefb6...</td>\n",
              "      <td>week</td>\n",
              "      <td>-1.199188</td>\n",
              "      <td>-0.149898</td>\n",
              "      <td>0</td>\n",
              "    </tr>\n",
              "    <tr>\n",
              "      <th>2</th>\n",
              "      <td>2</td>\n",
              "      <td>acc6afa23a6bf15e18151e4794c7789225ef9d682f473c...</td>\n",
              "      <td>week</td>\n",
              "      <td>-1.199188</td>\n",
              "      <td>-0.149898</td>\n",
              "      <td>0</td>\n",
              "    </tr>\n",
              "    <tr>\n",
              "      <th>3</th>\n",
              "      <td>3</td>\n",
              "      <td>34095a3c9a2937ced3ea3fd75e22ce177dc5879d2a53f7...</td>\n",
              "      <td>week</td>\n",
              "      <td>42.746137</td>\n",
              "      <td>17.428232</td>\n",
              "      <td>1</td>\n",
              "    </tr>\n",
              "    <tr>\n",
              "      <th>4</th>\n",
              "      <td>4</td>\n",
              "      <td>26f3db6e8817a93c4ceda9a16f0832945e43d950b95882...</td>\n",
              "      <td>week</td>\n",
              "      <td>-1.199188</td>\n",
              "      <td>-0.149898</td>\n",
              "      <td>0</td>\n",
              "    </tr>\n",
              "  </tbody>\n",
              "</table>\n",
              "</div>"
            ],
            "text/plain": [
              "   Unnamed: 0                                             acc_id label  \\\n",
              "0           0  b8fbf3f6a70e3f36843bffc70c18ff51a0d755a87616ec...  week   \n",
              "1           1  ed500c4957956b3e99dc3985666850b582f812405eefb6...  week   \n",
              "2           2  acc6afa23a6bf15e18151e4794c7789225ef9d682f473c...  week   \n",
              "3           3  34095a3c9a2937ced3ea3fd75e22ce177dc5879d2a53f7...  week   \n",
              "4           4  26f3db6e8817a93c4ceda9a16f0832945e43d950b95882...  week   \n",
              "\n",
              "   payment_amount_total  payment_amount_at_8  payment_factor  \n",
              "0             -1.199188            -0.149898               0  \n",
              "1             -1.199188            -0.149898               0  \n",
              "2             -1.199188            -0.149898               0  \n",
              "3             42.746137            17.428232               1  \n",
              "4             -1.199188            -0.149898               0  "
            ]
          },
          "metadata": {
            "tags": []
          },
          "execution_count": 20
        }
      ]
    },
    {
      "metadata": {
        "id": "SJfgVQczKVFq",
        "colab_type": "code",
        "colab": {}
      },
      "cell_type": "code",
      "source": [
        "tr_label_w_payment = tr_label_w_payment.drop(['Unnamed: 0'], axis = 1)"
      ],
      "execution_count": 0,
      "outputs": []
    },
    {
      "metadata": {
        "id": "0TBeJOiDLAf0",
        "colab_type": "code",
        "colab": {
          "base_uri": "https://localhost:8080/",
          "height": 204
        },
        "outputId": "dd364cc6-4354-4270-b8b4-d105af371b65"
      },
      "cell_type": "code",
      "source": [
        "tr_label_w_payment.head()"
      ],
      "execution_count": 22,
      "outputs": [
        {
          "output_type": "execute_result",
          "data": {
            "text/html": [
              "<div>\n",
              "<style scoped>\n",
              "    .dataframe tbody tr th:only-of-type {\n",
              "        vertical-align: middle;\n",
              "    }\n",
              "\n",
              "    .dataframe tbody tr th {\n",
              "        vertical-align: top;\n",
              "    }\n",
              "\n",
              "    .dataframe thead th {\n",
              "        text-align: right;\n",
              "    }\n",
              "</style>\n",
              "<table border=\"1\" class=\"dataframe\">\n",
              "  <thead>\n",
              "    <tr style=\"text-align: right;\">\n",
              "      <th></th>\n",
              "      <th>acc_id</th>\n",
              "      <th>label</th>\n",
              "      <th>payment_amount_total</th>\n",
              "      <th>payment_amount_at_8</th>\n",
              "      <th>payment_factor</th>\n",
              "    </tr>\n",
              "  </thead>\n",
              "  <tbody>\n",
              "    <tr>\n",
              "      <th>0</th>\n",
              "      <td>b8fbf3f6a70e3f36843bffc70c18ff51a0d755a87616ec...</td>\n",
              "      <td>week</td>\n",
              "      <td>-1.199188</td>\n",
              "      <td>-0.149898</td>\n",
              "      <td>0</td>\n",
              "    </tr>\n",
              "    <tr>\n",
              "      <th>1</th>\n",
              "      <td>ed500c4957956b3e99dc3985666850b582f812405eefb6...</td>\n",
              "      <td>week</td>\n",
              "      <td>-1.199188</td>\n",
              "      <td>-0.149898</td>\n",
              "      <td>0</td>\n",
              "    </tr>\n",
              "    <tr>\n",
              "      <th>2</th>\n",
              "      <td>acc6afa23a6bf15e18151e4794c7789225ef9d682f473c...</td>\n",
              "      <td>week</td>\n",
              "      <td>-1.199188</td>\n",
              "      <td>-0.149898</td>\n",
              "      <td>0</td>\n",
              "    </tr>\n",
              "    <tr>\n",
              "      <th>3</th>\n",
              "      <td>34095a3c9a2937ced3ea3fd75e22ce177dc5879d2a53f7...</td>\n",
              "      <td>week</td>\n",
              "      <td>42.746137</td>\n",
              "      <td>17.428232</td>\n",
              "      <td>1</td>\n",
              "    </tr>\n",
              "    <tr>\n",
              "      <th>4</th>\n",
              "      <td>26f3db6e8817a93c4ceda9a16f0832945e43d950b95882...</td>\n",
              "      <td>week</td>\n",
              "      <td>-1.199188</td>\n",
              "      <td>-0.149898</td>\n",
              "      <td>0</td>\n",
              "    </tr>\n",
              "  </tbody>\n",
              "</table>\n",
              "</div>"
            ],
            "text/plain": [
              "                                              acc_id label  \\\n",
              "0  b8fbf3f6a70e3f36843bffc70c18ff51a0d755a87616ec...  week   \n",
              "1  ed500c4957956b3e99dc3985666850b582f812405eefb6...  week   \n",
              "2  acc6afa23a6bf15e18151e4794c7789225ef9d682f473c...  week   \n",
              "3  34095a3c9a2937ced3ea3fd75e22ce177dc5879d2a53f7...  week   \n",
              "4  26f3db6e8817a93c4ceda9a16f0832945e43d950b95882...  week   \n",
              "\n",
              "   payment_amount_total  payment_amount_at_8  payment_factor  \n",
              "0             -1.199188            -0.149898               0  \n",
              "1             -1.199188            -0.149898               0  \n",
              "2             -1.199188            -0.149898               0  \n",
              "3             42.746137            17.428232               1  \n",
              "4             -1.199188            -0.149898               0  "
            ]
          },
          "metadata": {
            "tags": []
          },
          "execution_count": 22
        }
      ]
    },
    {
      "metadata": {
        "id": "bQJQvZ_xLBpo",
        "colab_type": "code",
        "colab": {
          "base_uri": "https://localhost:8080/",
          "height": 297
        },
        "outputId": "987e43db-dba2-44ad-ab24-adf7480a35b8"
      },
      "cell_type": "code",
      "source": [
        "tr_label_w_payment.describe()"
      ],
      "execution_count": 23,
      "outputs": [
        {
          "output_type": "execute_result",
          "data": {
            "text/html": [
              "<div>\n",
              "<style scoped>\n",
              "    .dataframe tbody tr th:only-of-type {\n",
              "        vertical-align: middle;\n",
              "    }\n",
              "\n",
              "    .dataframe tbody tr th {\n",
              "        vertical-align: top;\n",
              "    }\n",
              "\n",
              "    .dataframe thead th {\n",
              "        text-align: right;\n",
              "    }\n",
              "</style>\n",
              "<table border=\"1\" class=\"dataframe\">\n",
              "  <thead>\n",
              "    <tr style=\"text-align: right;\">\n",
              "      <th></th>\n",
              "      <th>payment_amount_total</th>\n",
              "      <th>payment_amount_at_8</th>\n",
              "      <th>payment_factor</th>\n",
              "    </tr>\n",
              "  </thead>\n",
              "  <tbody>\n",
              "    <tr>\n",
              "      <th>count</th>\n",
              "      <td>100000.000000</td>\n",
              "      <td>100000.000000</td>\n",
              "      <td>100000.000000</td>\n",
              "    </tr>\n",
              "    <tr>\n",
              "      <th>mean</th>\n",
              "      <td>-0.000979</td>\n",
              "      <td>0.042301</td>\n",
              "      <td>0.123020</td>\n",
              "    </tr>\n",
              "    <tr>\n",
              "      <th>std</th>\n",
              "      <td>4.763623</td>\n",
              "      <td>1.134096</td>\n",
              "      <td>0.328462</td>\n",
              "    </tr>\n",
              "    <tr>\n",
              "      <th>min</th>\n",
              "      <td>-1.199188</td>\n",
              "      <td>-0.149898</td>\n",
              "      <td>0.000000</td>\n",
              "    </tr>\n",
              "    <tr>\n",
              "      <th>25%</th>\n",
              "      <td>-1.199188</td>\n",
              "      <td>-0.149898</td>\n",
              "      <td>0.000000</td>\n",
              "    </tr>\n",
              "    <tr>\n",
              "      <th>50%</th>\n",
              "      <td>-1.199188</td>\n",
              "      <td>-0.149898</td>\n",
              "      <td>0.000000</td>\n",
              "    </tr>\n",
              "    <tr>\n",
              "      <th>75%</th>\n",
              "      <td>-1.199188</td>\n",
              "      <td>-0.149898</td>\n",
              "      <td>0.000000</td>\n",
              "    </tr>\n",
              "    <tr>\n",
              "      <th>max</th>\n",
              "      <td>51.535202</td>\n",
              "      <td>32.510267</td>\n",
              "      <td>1.000000</td>\n",
              "    </tr>\n",
              "  </tbody>\n",
              "</table>\n",
              "</div>"
            ],
            "text/plain": [
              "       payment_amount_total  payment_amount_at_8  payment_factor\n",
              "count         100000.000000        100000.000000   100000.000000\n",
              "mean              -0.000979             0.042301        0.123020\n",
              "std                4.763623             1.134096        0.328462\n",
              "min               -1.199188            -0.149898        0.000000\n",
              "25%               -1.199188            -0.149898        0.000000\n",
              "50%               -1.199188            -0.149898        0.000000\n",
              "75%               -1.199188            -0.149898        0.000000\n",
              "max               51.535202            32.510267        1.000000"
            ]
          },
          "metadata": {
            "tags": []
          },
          "execution_count": 23
        }
      ]
    },
    {
      "metadata": {
        "id": "GdbuprdBRnSA",
        "colab_type": "code",
        "colab": {}
      },
      "cell_type": "code",
      "source": [
        "def bar_plot(var):\n",
        "  week = tr_label_w_payment[tr_label_w_payment['label'] == 'week'][var].value_counts()\n",
        "  month = tr_label_w_payment[tr_label_w_payment['label'] == 'month'][var].value_counts()\n",
        "  two_month = tr_label_w_payment[tr_label_w_payment['label'] == '2month'][var].value_counts()\n",
        "  retained = tr_label_w_payment[tr_label_w_payment['label'] == 'retained'][var].value_counts()\n",
        "  df = pd.DataFrame([week, month, two_month, retained])\n",
        "  df.index = ['week', 'month', 'two_month', 'retained']\n",
        "  df.plot(kind = 'bar', stacked = True, figsize = (10, 5))"
      ],
      "execution_count": 0,
      "outputs": []
    },
    {
      "metadata": {
        "id": "lU8bky5bR5If",
        "colab_type": "code",
        "colab": {
          "base_uri": "https://localhost:8080/",
          "height": 359
        },
        "outputId": "0d864ad2-4f25-4773-cf64-f7fc18ab414f"
      },
      "cell_type": "code",
      "source": [
        "bar_plot('payment_factor')"
      ],
      "execution_count": 31,
      "outputs": [
        {
          "output_type": "display_data",
          "data": {
            "image/png": "[encoded data removed]",
            "text/plain": [
              "<matplotlib.figure.Figure at 0x7f63e0378990>"
            ]
          },
          "metadata": {
            "tags": []
          }
        }
      ]
    },
    {
      "metadata": {
        "id": "bEpad0eBSIKf",
        "colab_type": "text"
      },
      "cell_type": "markdown",
      "source": [
        "## 장기 존속 집단일수록 payment 경험이 높다"
      ]
    },
    {
      "metadata": {
        "id": "PGsqWx80SM3E",
        "colab_type": "code",
        "colab": {
          "base_uri": "https://localhost:8080/",
          "height": 187
        },
        "outputId": "6a99075d-c5b2-4348-883f-e23c6641b19e"
      },
      "cell_type": "code",
      "source": [
        "tr_label_w_payment.groupby('label')['payment_factor'].value_counts()"
      ],
      "execution_count": 35,
      "outputs": [
        {
          "output_type": "execute_result",
          "data": {
            "text/plain": [
              "label     payment_factor\n",
              "2month    0                 23878\n",
              "          1                  1122\n",
              "month     0                 24124\n",
              "          1                   876\n",
              "retained  0                 15489\n",
              "          1                  9511\n",
              "week      0                 24207\n",
              "          1                   793\n",
              "Name: payment_factor, dtype: int64"
            ]
          },
          "metadata": {
            "tags": []
          },
          "execution_count": 35
        }
      ]
    },
    {
      "metadata": {
        "id": "P0r5XRsgLF34",
        "colab_type": "code",
        "colab": {
          "base_uri": "https://localhost:8080/",
          "height": 284
        },
        "outputId": "c84fff52-826f-4bcd-921f-89aa0a7b182f"
      },
      "cell_type": "code",
      "source": [
        "tr_label_w_payment.groupby('label').describe()"
      ],
      "execution_count": 24,
      "outputs": [
        {
          "output_type": "execute_result",
          "data": {
            "text/html": [
              "<div>\n",
              "<style scoped>\n",
              "    .dataframe tbody tr th:only-of-type {\n",
              "        vertical-align: middle;\n",
              "    }\n",
              "\n",
              "    .dataframe tbody tr th {\n",
              "        vertical-align: top;\n",
              "    }\n",
              "\n",
              "    .dataframe thead tr th {\n",
              "        text-align: left;\n",
              "    }\n",
              "\n",
              "    .dataframe thead tr:last-of-type th {\n",
              "        text-align: right;\n",
              "    }\n",
              "</style>\n",
              "<table border=\"1\" class=\"dataframe\">\n",
              "  <thead>\n",
              "    <tr>\n",
              "      <th></th>\n",
              "      <th colspan=\"8\" halign=\"left\">payment_amount_at_8</th>\n",
              "      <th colspan=\"5\" halign=\"left\">payment_amount_total</th>\n",
              "      <th colspan=\"8\" halign=\"left\">payment_factor</th>\n",
              "    </tr>\n",
              "    <tr>\n",
              "      <th></th>\n",
              "      <th>count</th>\n",
              "      <th>mean</th>\n",
              "      <th>std</th>\n",
              "      <th>min</th>\n",
              "      <th>25%</th>\n",
              "      <th>50%</th>\n",
              "      <th>75%</th>\n",
              "      <th>max</th>\n",
              "      <th>count</th>\n",
              "      <th>mean</th>\n",
              "      <th>...</th>\n",
              "      <th>75%</th>\n",
              "      <th>max</th>\n",
              "      <th>count</th>\n",
              "      <th>mean</th>\n",
              "      <th>std</th>\n",
              "      <th>min</th>\n",
              "      <th>25%</th>\n",
              "      <th>50%</th>\n",
              "      <th>75%</th>\n",
              "      <th>max</th>\n",
              "    </tr>\n",
              "    <tr>\n",
              "      <th>label</th>\n",
              "      <th></th>\n",
              "      <th></th>\n",
              "      <th></th>\n",
              "      <th></th>\n",
              "      <th></th>\n",
              "      <th></th>\n",
              "      <th></th>\n",
              "      <th></th>\n",
              "      <th></th>\n",
              "      <th></th>\n",
              "      <th></th>\n",
              "      <th></th>\n",
              "      <th></th>\n",
              "      <th></th>\n",
              "      <th></th>\n",
              "      <th></th>\n",
              "      <th></th>\n",
              "      <th></th>\n",
              "      <th></th>\n",
              "      <th></th>\n",
              "      <th></th>\n",
              "    </tr>\n",
              "  </thead>\n",
              "  <tbody>\n",
              "    <tr>\n",
              "      <th>2month</th>\n",
              "      <td>25000.0</td>\n",
              "      <td>-0.102078</td>\n",
              "      <td>0.556044</td>\n",
              "      <td>-0.149898</td>\n",
              "      <td>-0.149898</td>\n",
              "      <td>-0.149898</td>\n",
              "      <td>-0.149898</td>\n",
              "      <td>17.428232</td>\n",
              "      <td>25000.0</td>\n",
              "      <td>-0.829100</td>\n",
              "      <td>...</td>\n",
              "      <td>-1.199188</td>\n",
              "      <td>50.164108</td>\n",
              "      <td>25000.0</td>\n",
              "      <td>0.04488</td>\n",
              "      <td>0.207045</td>\n",
              "      <td>0.0</td>\n",
              "      <td>0.0</td>\n",
              "      <td>0.0</td>\n",
              "      <td>0.0</td>\n",
              "      <td>1.0</td>\n",
              "    </tr>\n",
              "    <tr>\n",
              "      <th>month</th>\n",
              "      <td>25000.0</td>\n",
              "      <td>-0.121383</td>\n",
              "      <td>0.418521</td>\n",
              "      <td>-0.149898</td>\n",
              "      <td>-0.149898</td>\n",
              "      <td>-0.149898</td>\n",
              "      <td>-0.149898</td>\n",
              "      <td>18.342294</td>\n",
              "      <td>25000.0</td>\n",
              "      <td>-0.957833</td>\n",
              "      <td>...</td>\n",
              "      <td>-1.199188</td>\n",
              "      <td>46.613326</td>\n",
              "      <td>25000.0</td>\n",
              "      <td>0.03504</td>\n",
              "      <td>0.183885</td>\n",
              "      <td>0.0</td>\n",
              "      <td>0.0</td>\n",
              "      <td>0.0</td>\n",
              "      <td>0.0</td>\n",
              "      <td>1.0</td>\n",
              "    </tr>\n",
              "    <tr>\n",
              "      <th>retained</th>\n",
              "      <td>25000.0</td>\n",
              "      <td>0.525422</td>\n",
              "      <td>2.057861</td>\n",
              "      <td>-0.149898</td>\n",
              "      <td>-0.149898</td>\n",
              "      <td>-0.149898</td>\n",
              "      <td>-0.149898</td>\n",
              "      <td>32.510267</td>\n",
              "      <td>25000.0</td>\n",
              "      <td>2.798758</td>\n",
              "      <td>...</td>\n",
              "      <td>2.215231</td>\n",
              "      <td>51.535202</td>\n",
              "      <td>25000.0</td>\n",
              "      <td>0.38044</td>\n",
              "      <td>0.485505</td>\n",
              "      <td>0.0</td>\n",
              "      <td>0.0</td>\n",
              "      <td>0.0</td>\n",
              "      <td>1.0</td>\n",
              "      <td>1.0</td>\n",
              "    </tr>\n",
              "    <tr>\n",
              "      <th>week</th>\n",
              "      <td>25000.0</td>\n",
              "      <td>-0.132757</td>\n",
              "      <td>0.337659</td>\n",
              "      <td>-0.149898</td>\n",
              "      <td>-0.149898</td>\n",
              "      <td>-0.149898</td>\n",
              "      <td>-0.149898</td>\n",
              "      <td>17.428232</td>\n",
              "      <td>25000.0</td>\n",
              "      <td>-1.015742</td>\n",
              "      <td>...</td>\n",
              "      <td>-1.199188</td>\n",
              "      <td>42.746137</td>\n",
              "      <td>25000.0</td>\n",
              "      <td>0.03172</td>\n",
              "      <td>0.175257</td>\n",
              "      <td>0.0</td>\n",
              "      <td>0.0</td>\n",
              "      <td>0.0</td>\n",
              "      <td>0.0</td>\n",
              "      <td>1.0</td>\n",
              "    </tr>\n",
              "  </tbody>\n",
              "</table>\n",
              "<p>4 rows × 24 columns</p>\n",
              "</div>"
            ],
            "text/plain": [
              "         payment_amount_at_8                                          \\\n",
              "                       count      mean       std       min       25%   \n",
              "label                                                                  \n",
              "2month               25000.0 -0.102078  0.556044 -0.149898 -0.149898   \n",
              "month                25000.0 -0.121383  0.418521 -0.149898 -0.149898   \n",
              "retained             25000.0  0.525422  2.057861 -0.149898 -0.149898   \n",
              "week                 25000.0 -0.132757  0.337659 -0.149898 -0.149898   \n",
              "\n",
              "                                        payment_amount_total           ...   \\\n",
              "               50%       75%        max                count      mean ...    \n",
              "label                                                                  ...    \n",
              "2month   -0.149898 -0.149898  17.428232              25000.0 -0.829100 ...    \n",
              "month    -0.149898 -0.149898  18.342294              25000.0 -0.957833 ...    \n",
              "retained -0.149898 -0.149898  32.510267              25000.0  2.798758 ...    \n",
              "week     -0.149898 -0.149898  17.428232              25000.0 -1.015742 ...    \n",
              "\n",
              "                              payment_factor                               \\\n",
              "               75%        max          count     mean       std  min  25%   \n",
              "label                                                                       \n",
              "2month   -1.199188  50.164108        25000.0  0.04488  0.207045  0.0  0.0   \n",
              "month    -1.199188  46.613326        25000.0  0.03504  0.183885  0.0  0.0   \n",
              "retained  2.215231  51.535202        25000.0  0.38044  0.485505  0.0  0.0   \n",
              "week     -1.199188  42.746137        25000.0  0.03172  0.175257  0.0  0.0   \n",
              "\n",
              "                         \n",
              "          50%  75%  max  \n",
              "label                    \n",
              "2month    0.0  0.0  1.0  \n",
              "month     0.0  0.0  1.0  \n",
              "retained  0.0  1.0  1.0  \n",
              "week      0.0  0.0  1.0  \n",
              "\n",
              "[4 rows x 24 columns]"
            ]
          },
          "metadata": {
            "tags": []
          },
          "execution_count": 24
        }
      ]
    },
    {
      "metadata": {
        "id": "aE3GwZrjLUxf",
        "colab_type": "code",
        "colab": {
          "base_uri": "https://localhost:8080/",
          "height": 297
        },
        "outputId": "21d8188d-9a46-4816-9e32-27642ed62f69"
      },
      "cell_type": "code",
      "source": [
        "tr_label_w_payment.groupby('label').describe()['payment_amount_total'].transpose()"
      ],
      "execution_count": 25,
      "outputs": [
        {
          "output_type": "execute_result",
          "data": {
            "text/html": [
              "<div>\n",
              "<style scoped>\n",
              "    .dataframe tbody tr th:only-of-type {\n",
              "        vertical-align: middle;\n",
              "    }\n",
              "\n",
              "    .dataframe tbody tr th {\n",
              "        vertical-align: top;\n",
              "    }\n",
              "\n",
              "    .dataframe thead th {\n",
              "        text-align: right;\n",
              "    }\n",
              "</style>\n",
              "<table border=\"1\" class=\"dataframe\">\n",
              "  <thead>\n",
              "    <tr style=\"text-align: right;\">\n",
              "      <th>label</th>\n",
              "      <th>2month</th>\n",
              "      <th>month</th>\n",
              "      <th>retained</th>\n",
              "      <th>week</th>\n",
              "    </tr>\n",
              "  </thead>\n",
              "  <tbody>\n",
              "    <tr>\n",
              "      <th>count</th>\n",
              "      <td>25000.000000</td>\n",
              "      <td>25000.000000</td>\n",
              "      <td>25000.000000</td>\n",
              "      <td>25000.000000</td>\n",
              "    </tr>\n",
              "    <tr>\n",
              "      <th>mean</th>\n",
              "      <td>-0.829100</td>\n",
              "      <td>-0.957833</td>\n",
              "      <td>2.798758</td>\n",
              "      <td>-1.015742</td>\n",
              "    </tr>\n",
              "    <tr>\n",
              "      <th>std</th>\n",
              "      <td>2.652335</td>\n",
              "      <td>2.037342</td>\n",
              "      <td>8.132801</td>\n",
              "      <td>1.724235</td>\n",
              "    </tr>\n",
              "    <tr>\n",
              "      <th>min</th>\n",
              "      <td>-1.199188</td>\n",
              "      <td>-1.199188</td>\n",
              "      <td>-1.199188</td>\n",
              "      <td>-1.199188</td>\n",
              "    </tr>\n",
              "    <tr>\n",
              "      <th>25%</th>\n",
              "      <td>-1.199188</td>\n",
              "      <td>-1.199188</td>\n",
              "      <td>-1.199188</td>\n",
              "      <td>-1.199188</td>\n",
              "    </tr>\n",
              "    <tr>\n",
              "      <th>50%</th>\n",
              "      <td>-1.199188</td>\n",
              "      <td>-1.199188</td>\n",
              "      <td>-1.199188</td>\n",
              "      <td>-1.199188</td>\n",
              "    </tr>\n",
              "    <tr>\n",
              "      <th>75%</th>\n",
              "      <td>-1.199188</td>\n",
              "      <td>-1.199188</td>\n",
              "      <td>2.215231</td>\n",
              "      <td>-1.199188</td>\n",
              "    </tr>\n",
              "    <tr>\n",
              "      <th>max</th>\n",
              "      <td>50.164108</td>\n",
              "      <td>46.613326</td>\n",
              "      <td>51.535202</td>\n",
              "      <td>42.746137</td>\n",
              "    </tr>\n",
              "  </tbody>\n",
              "</table>\n",
              "</div>"
            ],
            "text/plain": [
              "label        2month         month      retained          week\n",
              "count  25000.000000  25000.000000  25000.000000  25000.000000\n",
              "mean      -0.829100     -0.957833      2.798758     -1.015742\n",
              "std        2.652335      2.037342      8.132801      1.724235\n",
              "min       -1.199188     -1.199188     -1.199188     -1.199188\n",
              "25%       -1.199188     -1.199188     -1.199188     -1.199188\n",
              "50%       -1.199188     -1.199188     -1.199188     -1.199188\n",
              "75%       -1.199188     -1.199188      2.215231     -1.199188\n",
              "max       50.164108     46.613326     51.535202     42.746137"
            ]
          },
          "metadata": {
            "tags": []
          },
          "execution_count": 25
        }
      ]
    },
    {
      "metadata": {
        "id": "y-UezhPgLfc7",
        "colab_type": "code",
        "colab": {}
      },
      "cell_type": "code",
      "source": [
        "eda_total = tr_label_w_payment.groupby('label').describe()['payment_amount_total'].transpose()"
      ],
      "execution_count": 0,
      "outputs": []
    },
    {
      "metadata": {
        "id": "HOSdlPpXLn6G",
        "colab_type": "code",
        "colab": {}
      },
      "cell_type": "code",
      "source": [
        "eda_total = eda_total[['week', 'month', '2month', 'retained']]"
      ],
      "execution_count": 0,
      "outputs": []
    },
    {
      "metadata": {
        "id": "Z4sP6KCXLvrA",
        "colab_type": "code",
        "colab": {
          "base_uri": "https://localhost:8080/",
          "height": 297
        },
        "outputId": "3567507d-b2fb-40f3-bec1-1c5e30a460b1"
      },
      "cell_type": "code",
      "source": [
        "eda_total"
      ],
      "execution_count": 28,
      "outputs": [
        {
          "output_type": "execute_result",
          "data": {
            "text/html": [
              "<div>\n",
              "<style scoped>\n",
              "    .dataframe tbody tr th:only-of-type {\n",
              "        vertical-align: middle;\n",
              "    }\n",
              "\n",
              "    .dataframe tbody tr th {\n",
              "        vertical-align: top;\n",
              "    }\n",
              "\n",
              "    .dataframe thead th {\n",
              "        text-align: right;\n",
              "    }\n",
              "</style>\n",
              "<table border=\"1\" class=\"dataframe\">\n",
              "  <thead>\n",
              "    <tr style=\"text-align: right;\">\n",
              "      <th>label</th>\n",
              "      <th>week</th>\n",
              "      <th>month</th>\n",
              "      <th>2month</th>\n",
              "      <th>retained</th>\n",
              "    </tr>\n",
              "  </thead>\n",
              "  <tbody>\n",
              "    <tr>\n",
              "      <th>count</th>\n",
              "      <td>25000.000000</td>\n",
              "      <td>25000.000000</td>\n",
              "      <td>25000.000000</td>\n",
              "      <td>25000.000000</td>\n",
              "    </tr>\n",
              "    <tr>\n",
              "      <th>mean</th>\n",
              "      <td>-1.015742</td>\n",
              "      <td>-0.957833</td>\n",
              "      <td>-0.829100</td>\n",
              "      <td>2.798758</td>\n",
              "    </tr>\n",
              "    <tr>\n",
              "      <th>std</th>\n",
              "      <td>1.724235</td>\n",
              "      <td>2.037342</td>\n",
              "      <td>2.652335</td>\n",
              "      <td>8.132801</td>\n",
              "    </tr>\n",
              "    <tr>\n",
              "      <th>min</th>\n",
              "      <td>-1.199188</td>\n",
              "      <td>-1.199188</td>\n",
              "      <td>-1.199188</td>\n",
              "      <td>-1.199188</td>\n",
              "    </tr>\n",
              "    <tr>\n",
              "      <th>25%</th>\n",
              "      <td>-1.199188</td>\n",
              "      <td>-1.199188</td>\n",
              "      <td>-1.199188</td>\n",
              "      <td>-1.199188</td>\n",
              "    </tr>\n",
              "    <tr>\n",
              "      <th>50%</th>\n",
              "      <td>-1.199188</td>\n",
              "      <td>-1.199188</td>\n",
              "      <td>-1.199188</td>\n",
              "      <td>-1.199188</td>\n",
              "    </tr>\n",
              "    <tr>\n",
              "      <th>75%</th>\n",
              "      <td>-1.199188</td>\n",
              "      <td>-1.199188</td>\n",
              "      <td>-1.199188</td>\n",
              "      <td>2.215231</td>\n",
              "    </tr>\n",
              "    <tr>\n",
              "      <th>max</th>\n",
              "      <td>42.746137</td>\n",
              "      <td>46.613326</td>\n",
              "      <td>50.164108</td>\n",
              "      <td>51.535202</td>\n",
              "    </tr>\n",
              "  </tbody>\n",
              "</table>\n",
              "</div>"
            ],
            "text/plain": [
              "label          week         month        2month      retained\n",
              "count  25000.000000  25000.000000  25000.000000  25000.000000\n",
              "mean      -1.015742     -0.957833     -0.829100      2.798758\n",
              "std        1.724235      2.037342      2.652335      8.132801\n",
              "min       -1.199188     -1.199188     -1.199188     -1.199188\n",
              "25%       -1.199188     -1.199188     -1.199188     -1.199188\n",
              "50%       -1.199188     -1.199188     -1.199188     -1.199188\n",
              "75%       -1.199188     -1.199188     -1.199188      2.215231\n",
              "max       42.746137     46.613326     50.164108     51.535202"
            ]
          },
          "metadata": {
            "tags": []
          },
          "execution_count": 28
        }
      ]
    },
    {
      "metadata": {
        "id": "3k7U_MeXLwxs",
        "colab_type": "code",
        "colab": {
          "base_uri": "https://localhost:8080/",
          "height": 404
        },
        "outputId": "32650796-4c04-4908-cdb4-7914dda71fdd"
      },
      "cell_type": "code",
      "source": [
        "eda_total.loc['mean'].plot(kind = 'bar')"
      ],
      "execution_count": 29,
      "outputs": [
        {
          "output_type": "execute_result",
          "data": {
            "text/plain": [
              "<matplotlib.axes._subplots.AxesSubplot at 0x7f63e0396350>"
            ]
          },
          "metadata": {
            "tags": []
          },
          "execution_count": 29
        },
        {
          "output_type": "display_data",
          "data": {
            "image/png": "[encoded data removed]",
            "text/plain": [
              "<matplotlib.figure.Figure at 0x7f63e040d210>"
            ]
          },
          "metadata": {
            "tags": []
          }
        }
      ]
    },
    {
      "metadata": {
        "id": "e6z9jviLMK2Q",
        "colab_type": "text"
      },
      "cell_type": "markdown",
      "source": [
        "### - payment_amount는 라벨링 그룹별로 직관과 일치하는 경향을 띈다. 장기로 머물수록 payment를 한 총량이 많다."
      ]
    },
    {
      "metadata": {
        "id": "r9RcnwMfMYCR",
        "colab_type": "code",
        "colab": {}
      },
      "cell_type": "code",
      "source": [
        "eda_at_8 = tr_label_w_payment.groupby('label')['payment_amount_at_8'].describe()"
      ],
      "execution_count": 0,
      "outputs": []
    },
    {
      "metadata": {
        "id": "nX8XJIuPM_HN",
        "colab_type": "code",
        "colab": {}
      },
      "cell_type": "code",
      "source": [
        "eda_at_8 = eda_at_8.transpose()"
      ],
      "execution_count": 0,
      "outputs": []
    },
    {
      "metadata": {
        "id": "TAdHr7yvSvSA",
        "colab_type": "code",
        "colab": {
          "base_uri": "https://localhost:8080/",
          "height": 297
        },
        "outputId": "637add8e-287f-44dd-edd0-78594f490dd9"
      },
      "cell_type": "code",
      "source": [
        "eda_at_8"
      ],
      "execution_count": 37,
      "outputs": [
        {
          "output_type": "execute_result",
          "data": {
            "text/html": [
              "<div>\n",
              "<style scoped>\n",
              "    .dataframe tbody tr th:only-of-type {\n",
              "        vertical-align: middle;\n",
              "    }\n",
              "\n",
              "    .dataframe tbody tr th {\n",
              "        vertical-align: top;\n",
              "    }\n",
              "\n",
              "    .dataframe thead th {\n",
              "        text-align: right;\n",
              "    }\n",
              "</style>\n",
              "<table border=\"1\" class=\"dataframe\">\n",
              "  <thead>\n",
              "    <tr style=\"text-align: right;\">\n",
              "      <th>label</th>\n",
              "      <th>2month</th>\n",
              "      <th>month</th>\n",
              "      <th>retained</th>\n",
              "      <th>week</th>\n",
              "    </tr>\n",
              "  </thead>\n",
              "  <tbody>\n",
              "    <tr>\n",
              "      <th>count</th>\n",
              "      <td>25000.000000</td>\n",
              "      <td>25000.000000</td>\n",
              "      <td>25000.000000</td>\n",
              "      <td>25000.000000</td>\n",
              "    </tr>\n",
              "    <tr>\n",
              "      <th>mean</th>\n",
              "      <td>-0.102078</td>\n",
              "      <td>-0.121383</td>\n",
              "      <td>0.525422</td>\n",
              "      <td>-0.132757</td>\n",
              "    </tr>\n",
              "    <tr>\n",
              "      <th>std</th>\n",
              "      <td>0.556044</td>\n",
              "      <td>0.418521</td>\n",
              "      <td>2.057861</td>\n",
              "      <td>0.337659</td>\n",
              "    </tr>\n",
              "    <tr>\n",
              "      <th>min</th>\n",
              "      <td>-0.149898</td>\n",
              "      <td>-0.149898</td>\n",
              "      <td>-0.149898</td>\n",
              "      <td>-0.149898</td>\n",
              "    </tr>\n",
              "    <tr>\n",
              "      <th>25%</th>\n",
              "      <td>-0.149898</td>\n",
              "      <td>-0.149898</td>\n",
              "      <td>-0.149898</td>\n",
              "      <td>-0.149898</td>\n",
              "    </tr>\n",
              "    <tr>\n",
              "      <th>50%</th>\n",
              "      <td>-0.149898</td>\n",
              "      <td>-0.149898</td>\n",
              "      <td>-0.149898</td>\n",
              "      <td>-0.149898</td>\n",
              "    </tr>\n",
              "    <tr>\n",
              "      <th>75%</th>\n",
              "      <td>-0.149898</td>\n",
              "      <td>-0.149898</td>\n",
              "      <td>-0.149898</td>\n",
              "      <td>-0.149898</td>\n",
              "    </tr>\n",
              "    <tr>\n",
              "      <th>max</th>\n",
              "      <td>17.428232</td>\n",
              "      <td>18.342294</td>\n",
              "      <td>32.510267</td>\n",
              "      <td>17.428232</td>\n",
              "    </tr>\n",
              "  </tbody>\n",
              "</table>\n",
              "</div>"
            ],
            "text/plain": [
              "label        2month         month      retained          week\n",
              "count  25000.000000  25000.000000  25000.000000  25000.000000\n",
              "mean      -0.102078     -0.121383      0.525422     -0.132757\n",
              "std        0.556044      0.418521      2.057861      0.337659\n",
              "min       -0.149898     -0.149898     -0.149898     -0.149898\n",
              "25%       -0.149898     -0.149898     -0.149898     -0.149898\n",
              "50%       -0.149898     -0.149898     -0.149898     -0.149898\n",
              "75%       -0.149898     -0.149898     -0.149898     -0.149898\n",
              "max       17.428232     18.342294     32.510267     17.428232"
            ]
          },
          "metadata": {
            "tags": []
          },
          "execution_count": 37
        }
      ]
    },
    {
      "metadata": {
        "id": "RW8z25XgSwak",
        "colab_type": "code",
        "colab": {}
      },
      "cell_type": "code",
      "source": [
        "eda_at_8 = eda_at_8[['week', 'month', '2month', 'retained']]"
      ],
      "execution_count": 0,
      "outputs": []
    },
    {
      "metadata": {
        "id": "5d0so-B2M6zq",
        "colab_type": "code",
        "colab": {
          "base_uri": "https://localhost:8080/",
          "height": 297
        },
        "outputId": "e937a762-16e4-4a30-d599-55c63d6c01f3"
      },
      "cell_type": "code",
      "source": [
        "eda_at_8"
      ],
      "execution_count": 39,
      "outputs": [
        {
          "output_type": "execute_result",
          "data": {
            "text/html": [
              "<div>\n",
              "<style scoped>\n",
              "    .dataframe tbody tr th:only-of-type {\n",
              "        vertical-align: middle;\n",
              "    }\n",
              "\n",
              "    .dataframe tbody tr th {\n",
              "        vertical-align: top;\n",
              "    }\n",
              "\n",
              "    .dataframe thead th {\n",
              "        text-align: right;\n",
              "    }\n",
              "</style>\n",
              "<table border=\"1\" class=\"dataframe\">\n",
              "  <thead>\n",
              "    <tr style=\"text-align: right;\">\n",
              "      <th>label</th>\n",
              "      <th>week</th>\n",
              "      <th>month</th>\n",
              "      <th>2month</th>\n",
              "      <th>retained</th>\n",
              "    </tr>\n",
              "  </thead>\n",
              "  <tbody>\n",
              "    <tr>\n",
              "      <th>count</th>\n",
              "      <td>25000.000000</td>\n",
              "      <td>25000.000000</td>\n",
              "      <td>25000.000000</td>\n",
              "      <td>25000.000000</td>\n",
              "    </tr>\n",
              "    <tr>\n",
              "      <th>mean</th>\n",
              "      <td>-0.132757</td>\n",
              "      <td>-0.121383</td>\n",
              "      <td>-0.102078</td>\n",
              "      <td>0.525422</td>\n",
              "    </tr>\n",
              "    <tr>\n",
              "      <th>std</th>\n",
              "      <td>0.337659</td>\n",
              "      <td>0.418521</td>\n",
              "      <td>0.556044</td>\n",
              "      <td>2.057861</td>\n",
              "    </tr>\n",
              "    <tr>\n",
              "      <th>min</th>\n",
              "      <td>-0.149898</td>\n",
              "      <td>-0.149898</td>\n",
              "      <td>-0.149898</td>\n",
              "      <td>-0.149898</td>\n",
              "    </tr>\n",
              "    <tr>\n",
              "      <th>25%</th>\n",
              "      <td>-0.149898</td>\n",
              "      <td>-0.149898</td>\n",
              "      <td>-0.149898</td>\n",
              "      <td>-0.149898</td>\n",
              "    </tr>\n",
              "    <tr>\n",
              "      <th>50%</th>\n",
              "      <td>-0.149898</td>\n",
              "      <td>-0.149898</td>\n",
              "      <td>-0.149898</td>\n",
              "      <td>-0.149898</td>\n",
              "    </tr>\n",
              "    <tr>\n",
              "      <th>75%</th>\n",
              "      <td>-0.149898</td>\n",
              "      <td>-0.149898</td>\n",
              "      <td>-0.149898</td>\n",
              "      <td>-0.149898</td>\n",
              "    </tr>\n",
              "    <tr>\n",
              "      <th>max</th>\n",
              "      <td>17.428232</td>\n",
              "      <td>18.342294</td>\n",
              "      <td>17.428232</td>\n",
              "      <td>32.510267</td>\n",
              "    </tr>\n",
              "  </tbody>\n",
              "</table>\n",
              "</div>"
            ],
            "text/plain": [
              "label          week         month        2month      retained\n",
              "count  25000.000000  25000.000000  25000.000000  25000.000000\n",
              "mean      -0.132757     -0.121383     -0.102078      0.525422\n",
              "std        0.337659      0.418521      0.556044      2.057861\n",
              "min       -0.149898     -0.149898     -0.149898     -0.149898\n",
              "25%       -0.149898     -0.149898     -0.149898     -0.149898\n",
              "50%       -0.149898     -0.149898     -0.149898     -0.149898\n",
              "75%       -0.149898     -0.149898     -0.149898     -0.149898\n",
              "max       17.428232     18.342294     17.428232     32.510267"
            ]
          },
          "metadata": {
            "tags": []
          },
          "execution_count": 39
        }
      ]
    },
    {
      "metadata": {
        "id": "HWRP9YDkS9Ex",
        "colab_type": "code",
        "colab": {
          "base_uri": "https://localhost:8080/",
          "height": 404
        },
        "outputId": "ba1f87ef-33d6-4d61-a6b7-baf821eab699"
      },
      "cell_type": "code",
      "source": [
        "eda_at_8.loc['mean'].plot(kind = 'bar')"
      ],
      "execution_count": 40,
      "outputs": [
        {
          "output_type": "execute_result",
          "data": {
            "text/plain": [
              "<matplotlib.axes._subplots.AxesSubplot at 0x7f63e015c8d0>"
            ]
          },
          "metadata": {
            "tags": []
          },
          "execution_count": 40
        },
        {
          "output_type": "display_data",
          "data": {
            "image/png": "[encoded data removed]",
            "text/plain": [
              "<matplotlib.figure.Figure at 0x7f63e0292910>"
            ]
          },
          "metadata": {
            "tags": []
          }
        }
      ]
    },
    {
      "metadata": {
        "id": "E9hJMB1BTVIX",
        "colab_type": "text"
      },
      "cell_type": "markdown",
      "source": [
        "## 8주차만의 정보를 보아도 장기 존속 라벨링일수록 payment 평균이 높다."
      ]
    },
    {
      "metadata": {
        "id": "_LQg8lQ2Tb2C",
        "colab_type": "code",
        "colab": {}
      },
      "cell_type": "code",
      "source": [
        "#8주차만의 payment_factor도 알아봐야할 듯..."
      ],
      "execution_count": 0,
      "outputs": []
    }
  ]
}